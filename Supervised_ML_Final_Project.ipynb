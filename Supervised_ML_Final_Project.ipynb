{
 "cells": [
  {
   "cell_type": "markdown",
   "id": "4fe8d94e",
   "metadata": {},
   "source": [
    "# COMP_2704: Supervised Machine Learning\n",
    "## Final Project\n",
    "### Jasleen Kaur\n",
    "> **Use Case and Data Selection**\n",
    ">> **Requirements**\n",
    "\n",
    "> **Model Development**\n",
    ">> **Decision Tree,**\n",
    ">> **Support Vector Machine**"
   ]
  },
  {
   "cell_type": "code",
   "execution_count": 1,
   "id": "9f920b74",
   "metadata": {},
   "outputs": [],
   "source": [
    "import numpy as np\n",
    "import pandas as pd\n",
    "import matplotlib.pyplot as plt\n",
    "import seaborn as sb\n",
    "import utils\n",
    "from sklearn.tree import DecisionTreeClassifier\n",
    "from sklearn.model_selection import train_test_split, GridSearchCV\n",
    "from sklearn.metrics import confusion_matrix, ConfusionMatrixDisplay, classification_report\n",
    "from sklearn.svm import SVC\n",
    "\n",
    "# Suppress warnings\n",
    "import warnings\n",
    "warnings.filterwarnings('ignore')"
   ]
  },
  {
   "cell_type": "markdown",
   "id": "79fa0b25",
   "metadata": {},
   "source": [
    "# Use Case and Data Selection: Requirements"
   ]
  },
  {
   "cell_type": "markdown",
   "id": "ec8b662a",
   "metadata": {},
   "source": [
    "**Description of each feature in the data set.**"
   ]
  },
  {
   "cell_type": "markdown",
   "id": "a78ed375",
   "metadata": {},
   "source": [
    "The heart failure clinical data can be used to develop a predictive model based on their risk of heart failure: low-risk, medium-risk, high-risk.\n",
    "\n",
    "1. low-risk - intensive care and treatment\n",
    "2. medium-risk - medication management, lifestyle changes, close monitoring\n",
    "3. high-risk - frequent monitoring, lifestyle modyfications, early treatment"
   ]
  },
  {
   "cell_type": "markdown",
   "id": "3d6751ac",
   "metadata": {},
   "source": [
    "This dataset contains **299 records** and **12 features** that can be used to predict mortality by heart failure.\n",
    "\n",
    "Following are the 12 features of this dataset:\n",
    "\n",
    "1. age (45 to 90) - age of the patient in years\n",
    "2. anaemia - decrease of red blood cells or hemoglobin (boolean)\n",
    "3. creatinine_phosphokinase - level of the CPK enzyme in the blood (mcg/L)\n",
    "4. diabetes - if the patient has diabetes (boolean)\n",
    "5. ejection_fraction - percentage of blood leaving the heart at each contraction (percentage)\n",
    "6. high_blood_pressure - if the patient has hypertension (boolean)\n",
    "7. platelets - platelets in the blood (kiloplatelets/mL)\n",
    "8. serum_creatinine - level of serum creatinine in the blood (mg/dL)\n",
    "9. serum_sodium - level of serum sodium in the blood (mEq/L)\n",
    "10. sex - woman or man (binary)\n",
    "11. smoking - if the patient smokes or not (boolean)\n",
    "12. time - follow-up period (days)\n",
    "\n",
    "The prediction is the DEATH_EVENT, which is either 1(yes) or 0(no) - if the patient died during the follow-up period (boolean)"
   ]
  },
  {
   "cell_type": "markdown",
   "id": "1c6bdf91",
   "metadata": {},
   "source": [
    "**Are false positives or negatives for one of the classes to be avoided? Or are all errors equally bad?**"
   ]
  },
  {
   "cell_type": "markdown",
   "id": "80754e52",
   "metadata": {},
   "source": [
    "**False Positive:** Actually low-risk, Predicted high-risk.\n",
    "\n",
    "**False Negative:** Actually high-risk, Predicted low-risk.\n",
    "\n",
    "According to me, after having a clear understanding of the data, I think that false negatives are generally more concerning than the false positives. On the other hand, false positives means that treating low-risk patients with extra care, testing.\n",
    "Therefore, the model should be optimized to minimize false negatives."
   ]
  },
  {
   "cell_type": "markdown",
   "id": "91c9e699",
   "metadata": {},
   "source": [
    "**Data cleaning, with check that it is clean using Pandas.**"
   ]
  },
  {
   "cell_type": "code",
   "execution_count": 2,
   "id": "1d674d7d",
   "metadata": {},
   "outputs": [
    {
     "data": {
      "text/html": [
       "<div>\n",
       "<style scoped>\n",
       "    .dataframe tbody tr th:only-of-type {\n",
       "        vertical-align: middle;\n",
       "    }\n",
       "\n",
       "    .dataframe tbody tr th {\n",
       "        vertical-align: top;\n",
       "    }\n",
       "\n",
       "    .dataframe thead th {\n",
       "        text-align: right;\n",
       "    }\n",
       "</style>\n",
       "<table border=\"1\" class=\"dataframe\">\n",
       "  <thead>\n",
       "    <tr style=\"text-align: right;\">\n",
       "      <th></th>\n",
       "      <th>age</th>\n",
       "      <th>anaemia</th>\n",
       "      <th>creatinine_phosphokinase</th>\n",
       "      <th>diabetes</th>\n",
       "      <th>ejection_fraction</th>\n",
       "      <th>high_blood_pressure</th>\n",
       "      <th>platelets</th>\n",
       "      <th>serum_creatinine</th>\n",
       "      <th>serum_sodium</th>\n",
       "      <th>sex</th>\n",
       "      <th>smoking</th>\n",
       "      <th>time</th>\n",
       "      <th>DEATH_EVENT</th>\n",
       "    </tr>\n",
       "  </thead>\n",
       "  <tbody>\n",
       "    <tr>\n",
       "      <th>0</th>\n",
       "      <td>75.0</td>\n",
       "      <td>0</td>\n",
       "      <td>582</td>\n",
       "      <td>0</td>\n",
       "      <td>20</td>\n",
       "      <td>1</td>\n",
       "      <td>265000.00</td>\n",
       "      <td>1.9</td>\n",
       "      <td>130</td>\n",
       "      <td>1</td>\n",
       "      <td>0</td>\n",
       "      <td>4</td>\n",
       "      <td>1</td>\n",
       "    </tr>\n",
       "    <tr>\n",
       "      <th>1</th>\n",
       "      <td>55.0</td>\n",
       "      <td>0</td>\n",
       "      <td>7861</td>\n",
       "      <td>0</td>\n",
       "      <td>38</td>\n",
       "      <td>0</td>\n",
       "      <td>263358.03</td>\n",
       "      <td>1.1</td>\n",
       "      <td>136</td>\n",
       "      <td>1</td>\n",
       "      <td>0</td>\n",
       "      <td>6</td>\n",
       "      <td>1</td>\n",
       "    </tr>\n",
       "    <tr>\n",
       "      <th>2</th>\n",
       "      <td>65.0</td>\n",
       "      <td>0</td>\n",
       "      <td>146</td>\n",
       "      <td>0</td>\n",
       "      <td>20</td>\n",
       "      <td>0</td>\n",
       "      <td>162000.00</td>\n",
       "      <td>1.3</td>\n",
       "      <td>129</td>\n",
       "      <td>1</td>\n",
       "      <td>1</td>\n",
       "      <td>7</td>\n",
       "      <td>1</td>\n",
       "    </tr>\n",
       "    <tr>\n",
       "      <th>3</th>\n",
       "      <td>50.0</td>\n",
       "      <td>1</td>\n",
       "      <td>111</td>\n",
       "      <td>0</td>\n",
       "      <td>20</td>\n",
       "      <td>0</td>\n",
       "      <td>210000.00</td>\n",
       "      <td>1.9</td>\n",
       "      <td>137</td>\n",
       "      <td>1</td>\n",
       "      <td>0</td>\n",
       "      <td>7</td>\n",
       "      <td>1</td>\n",
       "    </tr>\n",
       "    <tr>\n",
       "      <th>4</th>\n",
       "      <td>65.0</td>\n",
       "      <td>1</td>\n",
       "      <td>160</td>\n",
       "      <td>1</td>\n",
       "      <td>20</td>\n",
       "      <td>0</td>\n",
       "      <td>327000.00</td>\n",
       "      <td>2.7</td>\n",
       "      <td>116</td>\n",
       "      <td>0</td>\n",
       "      <td>0</td>\n",
       "      <td>8</td>\n",
       "      <td>1</td>\n",
       "    </tr>\n",
       "    <tr>\n",
       "      <th>...</th>\n",
       "      <td>...</td>\n",
       "      <td>...</td>\n",
       "      <td>...</td>\n",
       "      <td>...</td>\n",
       "      <td>...</td>\n",
       "      <td>...</td>\n",
       "      <td>...</td>\n",
       "      <td>...</td>\n",
       "      <td>...</td>\n",
       "      <td>...</td>\n",
       "      <td>...</td>\n",
       "      <td>...</td>\n",
       "      <td>...</td>\n",
       "    </tr>\n",
       "    <tr>\n",
       "      <th>294</th>\n",
       "      <td>62.0</td>\n",
       "      <td>0</td>\n",
       "      <td>61</td>\n",
       "      <td>1</td>\n",
       "      <td>38</td>\n",
       "      <td>1</td>\n",
       "      <td>155000.00</td>\n",
       "      <td>1.1</td>\n",
       "      <td>143</td>\n",
       "      <td>1</td>\n",
       "      <td>1</td>\n",
       "      <td>270</td>\n",
       "      <td>0</td>\n",
       "    </tr>\n",
       "    <tr>\n",
       "      <th>295</th>\n",
       "      <td>55.0</td>\n",
       "      <td>0</td>\n",
       "      <td>1820</td>\n",
       "      <td>0</td>\n",
       "      <td>38</td>\n",
       "      <td>0</td>\n",
       "      <td>270000.00</td>\n",
       "      <td>1.2</td>\n",
       "      <td>139</td>\n",
       "      <td>0</td>\n",
       "      <td>0</td>\n",
       "      <td>271</td>\n",
       "      <td>0</td>\n",
       "    </tr>\n",
       "    <tr>\n",
       "      <th>296</th>\n",
       "      <td>45.0</td>\n",
       "      <td>0</td>\n",
       "      <td>2060</td>\n",
       "      <td>1</td>\n",
       "      <td>60</td>\n",
       "      <td>0</td>\n",
       "      <td>742000.00</td>\n",
       "      <td>0.8</td>\n",
       "      <td>138</td>\n",
       "      <td>0</td>\n",
       "      <td>0</td>\n",
       "      <td>278</td>\n",
       "      <td>0</td>\n",
       "    </tr>\n",
       "    <tr>\n",
       "      <th>297</th>\n",
       "      <td>45.0</td>\n",
       "      <td>0</td>\n",
       "      <td>2413</td>\n",
       "      <td>0</td>\n",
       "      <td>38</td>\n",
       "      <td>0</td>\n",
       "      <td>140000.00</td>\n",
       "      <td>1.4</td>\n",
       "      <td>140</td>\n",
       "      <td>1</td>\n",
       "      <td>1</td>\n",
       "      <td>280</td>\n",
       "      <td>0</td>\n",
       "    </tr>\n",
       "    <tr>\n",
       "      <th>298</th>\n",
       "      <td>50.0</td>\n",
       "      <td>0</td>\n",
       "      <td>196</td>\n",
       "      <td>0</td>\n",
       "      <td>45</td>\n",
       "      <td>0</td>\n",
       "      <td>395000.00</td>\n",
       "      <td>1.6</td>\n",
       "      <td>136</td>\n",
       "      <td>1</td>\n",
       "      <td>1</td>\n",
       "      <td>285</td>\n",
       "      <td>0</td>\n",
       "    </tr>\n",
       "  </tbody>\n",
       "</table>\n",
       "<p>299 rows × 13 columns</p>\n",
       "</div>"
      ],
      "text/plain": [
       "      age  anaemia  creatinine_phosphokinase  diabetes  ejection_fraction  \\\n",
       "0    75.0        0                       582         0                 20   \n",
       "1    55.0        0                      7861         0                 38   \n",
       "2    65.0        0                       146         0                 20   \n",
       "3    50.0        1                       111         0                 20   \n",
       "4    65.0        1                       160         1                 20   \n",
       "..    ...      ...                       ...       ...                ...   \n",
       "294  62.0        0                        61         1                 38   \n",
       "295  55.0        0                      1820         0                 38   \n",
       "296  45.0        0                      2060         1                 60   \n",
       "297  45.0        0                      2413         0                 38   \n",
       "298  50.0        0                       196         0                 45   \n",
       "\n",
       "     high_blood_pressure  platelets  serum_creatinine  serum_sodium  sex  \\\n",
       "0                      1  265000.00               1.9           130    1   \n",
       "1                      0  263358.03               1.1           136    1   \n",
       "2                      0  162000.00               1.3           129    1   \n",
       "3                      0  210000.00               1.9           137    1   \n",
       "4                      0  327000.00               2.7           116    0   \n",
       "..                   ...        ...               ...           ...  ...   \n",
       "294                    1  155000.00               1.1           143    1   \n",
       "295                    0  270000.00               1.2           139    0   \n",
       "296                    0  742000.00               0.8           138    0   \n",
       "297                    0  140000.00               1.4           140    1   \n",
       "298                    0  395000.00               1.6           136    1   \n",
       "\n",
       "     smoking  time  DEATH_EVENT  \n",
       "0          0     4            1  \n",
       "1          0     6            1  \n",
       "2          1     7            1  \n",
       "3          0     7            1  \n",
       "4          0     8            1  \n",
       "..       ...   ...          ...  \n",
       "294        1   270            0  \n",
       "295        0   271            0  \n",
       "296        0   278            0  \n",
       "297        1   280            0  \n",
       "298        1   285            0  \n",
       "\n",
       "[299 rows x 13 columns]"
      ]
     },
     "execution_count": 2,
     "metadata": {},
     "output_type": "execute_result"
    }
   ],
   "source": [
    "# load data into pandas dataframe called df\n",
    "df = pd.read_csv(\"heart_failure_clinical_records_dataset.csv\")\n",
    "df"
   ]
  },
  {
   "cell_type": "code",
   "execution_count": 3,
   "id": "f8eeb119",
   "metadata": {},
   "outputs": [
    {
     "name": "stdout",
     "output_type": "stream",
     "text": [
      "<class 'pandas.core.frame.DataFrame'>\n",
      "RangeIndex: 299 entries, 0 to 298\n",
      "Data columns (total 13 columns):\n",
      " #   Column                    Non-Null Count  Dtype  \n",
      "---  ------                    --------------  -----  \n",
      " 0   age                       299 non-null    float64\n",
      " 1   anaemia                   299 non-null    int64  \n",
      " 2   creatinine_phosphokinase  299 non-null    int64  \n",
      " 3   diabetes                  299 non-null    int64  \n",
      " 4   ejection_fraction         299 non-null    int64  \n",
      " 5   high_blood_pressure       299 non-null    int64  \n",
      " 6   platelets                 299 non-null    float64\n",
      " 7   serum_creatinine          299 non-null    float64\n",
      " 8   serum_sodium              299 non-null    int64  \n",
      " 9   sex                       299 non-null    int64  \n",
      " 10  smoking                   299 non-null    int64  \n",
      " 11  time                      299 non-null    int64  \n",
      " 12  DEATH_EVENT               299 non-null    int64  \n",
      "dtypes: float64(3), int64(10)\n",
      "memory usage: 30.5 KB\n"
     ]
    }
   ],
   "source": [
    "# checking if there is any datatype other than int or float\n",
    "df.info()"
   ]
  },
  {
   "cell_type": "markdown",
   "id": "07a403b0",
   "metadata": {},
   "source": [
    "**Statistical or categorical description using the Pandas describe function. Provide written observations.**"
   ]
  },
  {
   "cell_type": "code",
   "execution_count": 4,
   "id": "b79c2c81",
   "metadata": {},
   "outputs": [
    {
     "data": {
      "text/html": [
       "<div>\n",
       "<style scoped>\n",
       "    .dataframe tbody tr th:only-of-type {\n",
       "        vertical-align: middle;\n",
       "    }\n",
       "\n",
       "    .dataframe tbody tr th {\n",
       "        vertical-align: top;\n",
       "    }\n",
       "\n",
       "    .dataframe thead th {\n",
       "        text-align: right;\n",
       "    }\n",
       "</style>\n",
       "<table border=\"1\" class=\"dataframe\">\n",
       "  <thead>\n",
       "    <tr style=\"text-align: right;\">\n",
       "      <th></th>\n",
       "      <th>age</th>\n",
       "      <th>anaemia</th>\n",
       "      <th>creatinine_phosphokinase</th>\n",
       "      <th>diabetes</th>\n",
       "      <th>ejection_fraction</th>\n",
       "      <th>high_blood_pressure</th>\n",
       "      <th>platelets</th>\n",
       "      <th>serum_creatinine</th>\n",
       "      <th>serum_sodium</th>\n",
       "      <th>sex</th>\n",
       "      <th>smoking</th>\n",
       "      <th>time</th>\n",
       "      <th>DEATH_EVENT</th>\n",
       "    </tr>\n",
       "  </thead>\n",
       "  <tbody>\n",
       "    <tr>\n",
       "      <th>count</th>\n",
       "      <td>299.000000</td>\n",
       "      <td>299.000000</td>\n",
       "      <td>299.000000</td>\n",
       "      <td>299.000000</td>\n",
       "      <td>299.000000</td>\n",
       "      <td>299.000000</td>\n",
       "      <td>299.000000</td>\n",
       "      <td>299.00000</td>\n",
       "      <td>299.000000</td>\n",
       "      <td>299.000000</td>\n",
       "      <td>299.00000</td>\n",
       "      <td>299.000000</td>\n",
       "      <td>299.00000</td>\n",
       "    </tr>\n",
       "    <tr>\n",
       "      <th>mean</th>\n",
       "      <td>60.833893</td>\n",
       "      <td>0.431438</td>\n",
       "      <td>581.839465</td>\n",
       "      <td>0.418060</td>\n",
       "      <td>38.083612</td>\n",
       "      <td>0.351171</td>\n",
       "      <td>263358.029264</td>\n",
       "      <td>1.39388</td>\n",
       "      <td>136.625418</td>\n",
       "      <td>0.648829</td>\n",
       "      <td>0.32107</td>\n",
       "      <td>130.260870</td>\n",
       "      <td>0.32107</td>\n",
       "    </tr>\n",
       "    <tr>\n",
       "      <th>std</th>\n",
       "      <td>11.894809</td>\n",
       "      <td>0.496107</td>\n",
       "      <td>970.287881</td>\n",
       "      <td>0.494067</td>\n",
       "      <td>11.834841</td>\n",
       "      <td>0.478136</td>\n",
       "      <td>97804.236869</td>\n",
       "      <td>1.03451</td>\n",
       "      <td>4.412477</td>\n",
       "      <td>0.478136</td>\n",
       "      <td>0.46767</td>\n",
       "      <td>77.614208</td>\n",
       "      <td>0.46767</td>\n",
       "    </tr>\n",
       "    <tr>\n",
       "      <th>min</th>\n",
       "      <td>40.000000</td>\n",
       "      <td>0.000000</td>\n",
       "      <td>23.000000</td>\n",
       "      <td>0.000000</td>\n",
       "      <td>14.000000</td>\n",
       "      <td>0.000000</td>\n",
       "      <td>25100.000000</td>\n",
       "      <td>0.50000</td>\n",
       "      <td>113.000000</td>\n",
       "      <td>0.000000</td>\n",
       "      <td>0.00000</td>\n",
       "      <td>4.000000</td>\n",
       "      <td>0.00000</td>\n",
       "    </tr>\n",
       "    <tr>\n",
       "      <th>25%</th>\n",
       "      <td>51.000000</td>\n",
       "      <td>0.000000</td>\n",
       "      <td>116.500000</td>\n",
       "      <td>0.000000</td>\n",
       "      <td>30.000000</td>\n",
       "      <td>0.000000</td>\n",
       "      <td>212500.000000</td>\n",
       "      <td>0.90000</td>\n",
       "      <td>134.000000</td>\n",
       "      <td>0.000000</td>\n",
       "      <td>0.00000</td>\n",
       "      <td>73.000000</td>\n",
       "      <td>0.00000</td>\n",
       "    </tr>\n",
       "    <tr>\n",
       "      <th>50%</th>\n",
       "      <td>60.000000</td>\n",
       "      <td>0.000000</td>\n",
       "      <td>250.000000</td>\n",
       "      <td>0.000000</td>\n",
       "      <td>38.000000</td>\n",
       "      <td>0.000000</td>\n",
       "      <td>262000.000000</td>\n",
       "      <td>1.10000</td>\n",
       "      <td>137.000000</td>\n",
       "      <td>1.000000</td>\n",
       "      <td>0.00000</td>\n",
       "      <td>115.000000</td>\n",
       "      <td>0.00000</td>\n",
       "    </tr>\n",
       "    <tr>\n",
       "      <th>75%</th>\n",
       "      <td>70.000000</td>\n",
       "      <td>1.000000</td>\n",
       "      <td>582.000000</td>\n",
       "      <td>1.000000</td>\n",
       "      <td>45.000000</td>\n",
       "      <td>1.000000</td>\n",
       "      <td>303500.000000</td>\n",
       "      <td>1.40000</td>\n",
       "      <td>140.000000</td>\n",
       "      <td>1.000000</td>\n",
       "      <td>1.00000</td>\n",
       "      <td>203.000000</td>\n",
       "      <td>1.00000</td>\n",
       "    </tr>\n",
       "    <tr>\n",
       "      <th>max</th>\n",
       "      <td>95.000000</td>\n",
       "      <td>1.000000</td>\n",
       "      <td>7861.000000</td>\n",
       "      <td>1.000000</td>\n",
       "      <td>80.000000</td>\n",
       "      <td>1.000000</td>\n",
       "      <td>850000.000000</td>\n",
       "      <td>9.40000</td>\n",
       "      <td>148.000000</td>\n",
       "      <td>1.000000</td>\n",
       "      <td>1.00000</td>\n",
       "      <td>285.000000</td>\n",
       "      <td>1.00000</td>\n",
       "    </tr>\n",
       "  </tbody>\n",
       "</table>\n",
       "</div>"
      ],
      "text/plain": [
       "              age     anaemia  creatinine_phosphokinase    diabetes  \\\n",
       "count  299.000000  299.000000                299.000000  299.000000   \n",
       "mean    60.833893    0.431438                581.839465    0.418060   \n",
       "std     11.894809    0.496107                970.287881    0.494067   \n",
       "min     40.000000    0.000000                 23.000000    0.000000   \n",
       "25%     51.000000    0.000000                116.500000    0.000000   \n",
       "50%     60.000000    0.000000                250.000000    0.000000   \n",
       "75%     70.000000    1.000000                582.000000    1.000000   \n",
       "max     95.000000    1.000000               7861.000000    1.000000   \n",
       "\n",
       "       ejection_fraction  high_blood_pressure      platelets  \\\n",
       "count         299.000000           299.000000     299.000000   \n",
       "mean           38.083612             0.351171  263358.029264   \n",
       "std            11.834841             0.478136   97804.236869   \n",
       "min            14.000000             0.000000   25100.000000   \n",
       "25%            30.000000             0.000000  212500.000000   \n",
       "50%            38.000000             0.000000  262000.000000   \n",
       "75%            45.000000             1.000000  303500.000000   \n",
       "max            80.000000             1.000000  850000.000000   \n",
       "\n",
       "       serum_creatinine  serum_sodium         sex    smoking        time  \\\n",
       "count         299.00000    299.000000  299.000000  299.00000  299.000000   \n",
       "mean            1.39388    136.625418    0.648829    0.32107  130.260870   \n",
       "std             1.03451      4.412477    0.478136    0.46767   77.614208   \n",
       "min             0.50000    113.000000    0.000000    0.00000    4.000000   \n",
       "25%             0.90000    134.000000    0.000000    0.00000   73.000000   \n",
       "50%             1.10000    137.000000    1.000000    0.00000  115.000000   \n",
       "75%             1.40000    140.000000    1.000000    1.00000  203.000000   \n",
       "max             9.40000    148.000000    1.000000    1.00000  285.000000   \n",
       "\n",
       "       DEATH_EVENT  \n",
       "count    299.00000  \n",
       "mean       0.32107  \n",
       "std        0.46767  \n",
       "min        0.00000  \n",
       "25%        0.00000  \n",
       "50%        0.00000  \n",
       "75%        1.00000  \n",
       "max        1.00000  "
      ]
     },
     "execution_count": 4,
     "metadata": {},
     "output_type": "execute_result"
    }
   ],
   "source": [
    "# description of the data using pandas describe function\n",
    "df.describe()"
   ]
  },
  {
   "cell_type": "markdown",
   "id": "5e501261",
   "metadata": {},
   "source": [
    "**Observations**\n",
    "\n",
    "By using the pandas describe function, I can conclude that:\n",
    "1. There are 299 records for each of the feature.\n",
    "2. The mean, standard deviation, minimum value, 25%, 50% & 75% of each feature, and the maximum value of each feature is displayed."
   ]
  },
  {
   "cell_type": "markdown",
   "id": "9fb4adc8",
   "metadata": {},
   "source": [
    "**Bar graph showing the count of class. Provide written observations.**"
   ]
  },
  {
   "cell_type": "code",
   "execution_count": 5,
   "id": "8dc543d7",
   "metadata": {},
   "outputs": [
    {
     "data": {
      "text/plain": [
       "Text(0.5, 1.0, 'Death Event v/s Count of the Patients')"
      ]
     },
     "execution_count": 5,
     "metadata": {},
     "output_type": "execute_result"
    },
    {
     "data": {
      "image/png": "[encoded data removed]",
      "text/plain": [
       "<Figure size 640x480 with 1 Axes>"
      ]
     },
     "metadata": {},
     "output_type": "display_data"
    }
   ],
   "source": [
    "# using countplot to plot the bar graph of the class \n",
    "sb.countplot(data = df, x = 'DEATH_EVENT')\n",
    "\n",
    "# count the exact number of patients\n",
    "counts = df['DEATH_EVENT'].value_counts()\n",
    "    \n",
    "# giving title to the bar graph\n",
    "plt.title('Death Event v/s Count of the Patients')"
   ]
  },
  {
   "cell_type": "code",
   "execution_count": 6,
   "id": "83be45d4",
   "metadata": {},
   "outputs": [],
   "source": [
    "# check the exact number of patients who experienced death or not\n",
    "# count = df['DEATH_EVENT'].value_counts()\n",
    "# print(count)"
   ]
  },
  {
   "cell_type": "markdown",
   "id": "1167c33f",
   "metadata": {},
   "source": [
    "**Observations**\n",
    "\n",
    "In this bar graph, 0 represents that the patients did not experience death, whereas 1 represents that the patients experienced death. So, according to this graph, 203 patients did not experience death, whereas 96 patients experienced death."
   ]
  },
  {
   "cell_type": "markdown",
   "id": "1c572b1b",
   "metadata": {},
   "source": [
    "# Decision Tree"
   ]
  },
  {
   "cell_type": "markdown",
   "id": "6f4bfab3",
   "metadata": {},
   "source": [
    "**Try both Gini impurity index and Entropy as a condition for splitting branches. Experiment with different values of max_depth, max_features, min_impurity_decrease, min_samples_leaf, min_samples_split, and any other hyperparameters you wish.**"
   ]
  },
  {
   "cell_type": "code",
   "execution_count": 7,
   "id": "31372d3c",
   "metadata": {},
   "outputs": [],
   "source": [
    "# drop the death_event column from the features and add it to the labels\n",
    "X = features = df.drop(['DEATH_EVENT'], axis = 1)\n",
    "Y = labels = df['DEATH_EVENT']"
   ]
  },
  {
   "cell_type": "code",
   "execution_count": 8,
   "id": "512960fc",
   "metadata": {},
   "outputs": [],
   "source": [
    "# splitting the data into training, validation, and test sets\n",
    "X_train, X_validation_test, Y_train, Y_validation_test = train_test_split(X, Y, test_size = 0.2)\n",
    "X_validation, X_test, Y_validation, Y_test =train_test_split(X_validation_test, Y_validation_test, test_size = 0.5)"
   ]
  },
  {
   "cell_type": "markdown",
   "id": "fa168e63",
   "metadata": {},
   "source": [
    "### First Decision Tree"
   ]
  },
  {
   "cell_type": "code",
   "execution_count": 49,
   "id": "1f642b12",
   "metadata": {},
   "outputs": [
    {
     "data": {
      "text/html": [
       "<div>\n",
       "<style scoped>\n",
       "    .dataframe tbody tr th:only-of-type {\n",
       "        vertical-align: middle;\n",
       "    }\n",
       "\n",
       "    .dataframe tbody tr th {\n",
       "        vertical-align: top;\n",
       "    }\n",
       "\n",
       "    .dataframe thead th {\n",
       "        text-align: right;\n",
       "    }\n",
       "</style>\n",
       "<table border=\"1\" class=\"dataframe\">\n",
       "  <thead>\n",
       "    <tr style=\"text-align: right;\">\n",
       "      <th></th>\n",
       "      <th>age</th>\n",
       "      <th>anaemia</th>\n",
       "      <th>creatinine_phosphokinase</th>\n",
       "      <th>diabetes</th>\n",
       "      <th>ejection_fraction</th>\n",
       "      <th>high_blood_pressure</th>\n",
       "      <th>platelets</th>\n",
       "      <th>serum_creatinine</th>\n",
       "      <th>serum_sodium</th>\n",
       "      <th>sex</th>\n",
       "      <th>smoking</th>\n",
       "      <th>time</th>\n",
       "    </tr>\n",
       "  </thead>\n",
       "  <tbody>\n",
       "    <tr>\n",
       "      <th>247</th>\n",
       "      <td>64.0</td>\n",
       "      <td>0</td>\n",
       "      <td>143</td>\n",
       "      <td>0</td>\n",
       "      <td>25</td>\n",
       "      <td>0</td>\n",
       "      <td>246000.00</td>\n",
       "      <td>2.40</td>\n",
       "      <td>135</td>\n",
       "      <td>1</td>\n",
       "      <td>0</td>\n",
       "      <td>214</td>\n",
       "    </tr>\n",
       "    <tr>\n",
       "      <th>97</th>\n",
       "      <td>70.0</td>\n",
       "      <td>1</td>\n",
       "      <td>59</td>\n",
       "      <td>0</td>\n",
       "      <td>60</td>\n",
       "      <td>0</td>\n",
       "      <td>255000.00</td>\n",
       "      <td>1.10</td>\n",
       "      <td>136</td>\n",
       "      <td>0</td>\n",
       "      <td>0</td>\n",
       "      <td>85</td>\n",
       "    </tr>\n",
       "    <tr>\n",
       "      <th>10</th>\n",
       "      <td>75.0</td>\n",
       "      <td>1</td>\n",
       "      <td>81</td>\n",
       "      <td>0</td>\n",
       "      <td>38</td>\n",
       "      <td>1</td>\n",
       "      <td>368000.00</td>\n",
       "      <td>4.00</td>\n",
       "      <td>131</td>\n",
       "      <td>1</td>\n",
       "      <td>1</td>\n",
       "      <td>10</td>\n",
       "    </tr>\n",
       "    <tr>\n",
       "      <th>131</th>\n",
       "      <td>60.0</td>\n",
       "      <td>1</td>\n",
       "      <td>1082</td>\n",
       "      <td>1</td>\n",
       "      <td>45</td>\n",
       "      <td>0</td>\n",
       "      <td>250000.00</td>\n",
       "      <td>6.10</td>\n",
       "      <td>131</td>\n",
       "      <td>1</td>\n",
       "      <td>0</td>\n",
       "      <td>107</td>\n",
       "    </tr>\n",
       "    <tr>\n",
       "      <th>81</th>\n",
       "      <td>67.0</td>\n",
       "      <td>0</td>\n",
       "      <td>582</td>\n",
       "      <td>0</td>\n",
       "      <td>50</td>\n",
       "      <td>0</td>\n",
       "      <td>263358.03</td>\n",
       "      <td>1.18</td>\n",
       "      <td>137</td>\n",
       "      <td>1</td>\n",
       "      <td>1</td>\n",
       "      <td>76</td>\n",
       "    </tr>\n",
       "    <tr>\n",
       "      <th>...</th>\n",
       "      <td>...</td>\n",
       "      <td>...</td>\n",
       "      <td>...</td>\n",
       "      <td>...</td>\n",
       "      <td>...</td>\n",
       "      <td>...</td>\n",
       "      <td>...</td>\n",
       "      <td>...</td>\n",
       "      <td>...</td>\n",
       "      <td>...</td>\n",
       "      <td>...</td>\n",
       "      <td>...</td>\n",
       "    </tr>\n",
       "    <tr>\n",
       "      <th>21</th>\n",
       "      <td>65.0</td>\n",
       "      <td>1</td>\n",
       "      <td>128</td>\n",
       "      <td>1</td>\n",
       "      <td>30</td>\n",
       "      <td>1</td>\n",
       "      <td>297000.00</td>\n",
       "      <td>1.60</td>\n",
       "      <td>136</td>\n",
       "      <td>0</td>\n",
       "      <td>0</td>\n",
       "      <td>20</td>\n",
       "    </tr>\n",
       "    <tr>\n",
       "      <th>199</th>\n",
       "      <td>60.0</td>\n",
       "      <td>0</td>\n",
       "      <td>1211</td>\n",
       "      <td>1</td>\n",
       "      <td>35</td>\n",
       "      <td>0</td>\n",
       "      <td>263358.03</td>\n",
       "      <td>1.80</td>\n",
       "      <td>113</td>\n",
       "      <td>1</td>\n",
       "      <td>1</td>\n",
       "      <td>186</td>\n",
       "    </tr>\n",
       "    <tr>\n",
       "      <th>234</th>\n",
       "      <td>53.0</td>\n",
       "      <td>1</td>\n",
       "      <td>582</td>\n",
       "      <td>0</td>\n",
       "      <td>45</td>\n",
       "      <td>0</td>\n",
       "      <td>305000.00</td>\n",
       "      <td>1.10</td>\n",
       "      <td>137</td>\n",
       "      <td>1</td>\n",
       "      <td>1</td>\n",
       "      <td>209</td>\n",
       "    </tr>\n",
       "    <tr>\n",
       "      <th>65</th>\n",
       "      <td>60.0</td>\n",
       "      <td>0</td>\n",
       "      <td>68</td>\n",
       "      <td>0</td>\n",
       "      <td>20</td>\n",
       "      <td>0</td>\n",
       "      <td>119000.00</td>\n",
       "      <td>2.90</td>\n",
       "      <td>127</td>\n",
       "      <td>1</td>\n",
       "      <td>1</td>\n",
       "      <td>64</td>\n",
       "    </tr>\n",
       "    <tr>\n",
       "      <th>162</th>\n",
       "      <td>63.0</td>\n",
       "      <td>1</td>\n",
       "      <td>582</td>\n",
       "      <td>0</td>\n",
       "      <td>40</td>\n",
       "      <td>0</td>\n",
       "      <td>448000.00</td>\n",
       "      <td>0.90</td>\n",
       "      <td>137</td>\n",
       "      <td>1</td>\n",
       "      <td>1</td>\n",
       "      <td>123</td>\n",
       "    </tr>\n",
       "  </tbody>\n",
       "</table>\n",
       "<p>239 rows × 12 columns</p>\n",
       "</div>"
      ],
      "text/plain": [
       "      age  anaemia  creatinine_phosphokinase  diabetes  ejection_fraction  \\\n",
       "247  64.0        0                       143         0                 25   \n",
       "97   70.0        1                        59         0                 60   \n",
       "10   75.0        1                        81         0                 38   \n",
       "131  60.0        1                      1082         1                 45   \n",
       "81   67.0        0                       582         0                 50   \n",
       "..    ...      ...                       ...       ...                ...   \n",
       "21   65.0        1                       128         1                 30   \n",
       "199  60.0        0                      1211         1                 35   \n",
       "234  53.0        1                       582         0                 45   \n",
       "65   60.0        0                        68         0                 20   \n",
       "162  63.0        1                       582         0                 40   \n",
       "\n",
       "     high_blood_pressure  platelets  serum_creatinine  serum_sodium  sex  \\\n",
       "247                    0  246000.00              2.40           135    1   \n",
       "97                     0  255000.00              1.10           136    0   \n",
       "10                     1  368000.00              4.00           131    1   \n",
       "131                    0  250000.00              6.10           131    1   \n",
       "81                     0  263358.03              1.18           137    1   \n",
       "..                   ...        ...               ...           ...  ...   \n",
       "21                     1  297000.00              1.60           136    0   \n",
       "199                    0  263358.03              1.80           113    1   \n",
       "234                    0  305000.00              1.10           137    1   \n",
       "65                     0  119000.00              2.90           127    1   \n",
       "162                    0  448000.00              0.90           137    1   \n",
       "\n",
       "     smoking  time  \n",
       "247        0   214  \n",
       "97         0    85  \n",
       "10         1    10  \n",
       "131        0   107  \n",
       "81         1    76  \n",
       "..       ...   ...  \n",
       "21         0    20  \n",
       "199        1   186  \n",
       "234        1   209  \n",
       "65         1    64  \n",
       "162        1   123  \n",
       "\n",
       "[239 rows x 12 columns]"
      ]
     },
     "execution_count": 49,
     "metadata": {},
     "output_type": "execute_result"
    }
   ],
   "source": [
    "X_train"
   ]
  },
  {
   "cell_type": "code",
   "execution_count": 54,
   "id": "6e36aba6",
   "metadata": {},
   "outputs": [
    {
     "data": {
      "text/plain": [
       "(239, 12)"
      ]
     },
     "execution_count": 54,
     "metadata": {},
     "output_type": "execute_result"
    }
   ],
   "source": [
    "X_train.shape"
   ]
  },
  {
   "cell_type": "code",
   "execution_count": 55,
   "id": "6e1a890c",
   "metadata": {},
   "outputs": [
    {
     "data": {
      "text/plain": [
       "(30, 12)"
      ]
     },
     "execution_count": 55,
     "metadata": {},
     "output_type": "execute_result"
    }
   ],
   "source": [
    "X_test.shape"
   ]
  },
  {
   "cell_type": "code",
   "execution_count": 56,
   "id": "7e9f2653",
   "metadata": {},
   "outputs": [
    {
     "data": {
      "text/plain": [
       "(30, 12)"
      ]
     },
     "execution_count": 56,
     "metadata": {},
     "output_type": "execute_result"
    }
   ],
   "source": [
    "X_validation.shape"
   ]
  },
  {
   "cell_type": "code",
   "execution_count": 9,
   "id": "7bdce886",
   "metadata": {},
   "outputs": [],
   "source": [
    "# creating the first decision tree model\n",
    "dt_1 = DecisionTreeClassifier(criterion = 'gini', max_depth=3, max_features=3\n",
    "                              , min_impurity_decrease=0.0, min_samples_leaf=5\n",
    "                              , min_samples_split=5,random_state=12)"
   ]
  },
  {
   "cell_type": "code",
   "execution_count": 10,
   "id": "115b63d2",
   "metadata": {},
   "outputs": [
    {
     "data": {
      "text/plain": [
       "DecisionTreeClassifier(max_depth=3, max_features=3, min_samples_leaf=5,\n",
       "                       min_samples_split=5, random_state=12)"
      ]
     },
     "execution_count": 10,
     "metadata": {},
     "output_type": "execute_result"
    }
   ],
   "source": [
    "# training the model\n",
    "dt_1.fit(X_train, Y_train)"
   ]
  },
  {
   "cell_type": "code",
   "execution_count": 11,
   "id": "7b4b764b",
   "metadata": {},
   "outputs": [
    {
     "data": {
      "image/png": "[encoded data removed]",
      "text/plain": [
       "<IPython.core.display.Image object>"
      ]
     },
     "execution_count": 11,
     "metadata": {},
     "output_type": "execute_result"
    }
   ],
   "source": [
    "# display first decision tree model\n",
    "utils.display_tree(dt_1)"
   ]
  },
  {
   "cell_type": "code",
   "execution_count": 12,
   "id": "4fe66860",
   "metadata": {},
   "outputs": [
    {
     "data": {
      "text/plain": [
       "0.7666666666666667"
      ]
     },
     "execution_count": 12,
     "metadata": {},
     "output_type": "execute_result"
    }
   ],
   "source": [
    "# accuracy using score method\n",
    "dt_1.score(X_validation, Y_validation)"
   ]
  },
  {
   "cell_type": "markdown",
   "id": "1d1409f3",
   "metadata": {},
   "source": [
    "### Second Decision Tree"
   ]
  },
  {
   "cell_type": "code",
   "execution_count": 13,
   "id": "3d04588a",
   "metadata": {},
   "outputs": [],
   "source": [
    "# creating the first decision tree model\n",
    "dt_2 = DecisionTreeClassifier(criterion = 'entropy', max_depth=1, max_features=3\n",
    "                              , min_impurity_decrease=0.0, min_samples_leaf=5\n",
    "                              , min_samples_split=5, random_state=12)"
   ]
  },
  {
   "cell_type": "code",
   "execution_count": 14,
   "id": "d944b284",
   "metadata": {},
   "outputs": [
    {
     "data": {
      "text/plain": [
       "DecisionTreeClassifier(criterion='entropy', max_depth=1, max_features=3,\n",
       "                       min_samples_leaf=5, min_samples_split=5,\n",
       "                       random_state=12)"
      ]
     },
     "execution_count": 14,
     "metadata": {},
     "output_type": "execute_result"
    }
   ],
   "source": [
    "# training the model\n",
    "dt_2.fit(X_train, Y_train)"
   ]
  },
  {
   "cell_type": "code",
   "execution_count": 15,
   "id": "a34c71b0",
   "metadata": {},
   "outputs": [
    {
     "data": {
      "image/png": "[encoded data removed]",
      "text/plain": [
       "<IPython.core.display.Image object>"
      ]
     },
     "execution_count": 15,
     "metadata": {},
     "output_type": "execute_result"
    }
   ],
   "source": [
    "# display second decision tree model\n",
    "utils.display_tree(dt_2)"
   ]
  },
  {
   "cell_type": "code",
   "execution_count": 16,
   "id": "f5262188",
   "metadata": {},
   "outputs": [
    {
     "data": {
      "text/plain": [
       "0.7"
      ]
     },
     "execution_count": 16,
     "metadata": {},
     "output_type": "execute_result"
    }
   ],
   "source": [
    "# accuracy of the model using score method\n",
    "dt_2.score(X_validation, Y_validation)"
   ]
  },
  {
   "cell_type": "markdown",
   "id": "e2288c40",
   "metadata": {},
   "source": [
    "**On your best decision tree models, use the classification_report and confusion_matrix functions in sklearn to display metrics, using training and validation (but not testing) data. Also use the display_tree method in utils.py to display each tree.**"
   ]
  },
  {
   "cell_type": "code",
   "execution_count": 17,
   "id": "bed26a88",
   "metadata": {},
   "outputs": [],
   "source": [
    "# using GridSearchCV to choose the best model and storing it in a new decision tree model\n",
    "dt_3 = GridSearchCV(DecisionTreeClassifier(random_state=12), param_grid={\n",
    "      'criterion':['gini','entropy']\n",
    "    , 'max_depth':[1,3,5,7,9] \n",
    "    , 'min_samples_leaf': [3,4,7,5]\n",
    "    , 'min_samples_split': [5,1,2]\n",
    "})"
   ]
  },
  {
   "cell_type": "code",
   "execution_count": 18,
   "id": "af48dced",
   "metadata": {},
   "outputs": [
    {
     "data": {
      "text/plain": [
       "GridSearchCV(estimator=DecisionTreeClassifier(random_state=12),\n",
       "             param_grid={'criterion': ['gini', 'entropy'],\n",
       "                         'max_depth': [1, 3, 5, 7, 9],\n",
       "                         'min_samples_leaf': [3, 4, 7, 5],\n",
       "                         'min_samples_split': [5, 1, 2]})"
      ]
     },
     "execution_count": 18,
     "metadata": {},
     "output_type": "execute_result"
    }
   ],
   "source": [
    "# training the model\n",
    "dt_3.fit(X_train, Y_train)"
   ]
  },
  {
   "cell_type": "code",
   "execution_count": 19,
   "id": "76e726b7",
   "metadata": {},
   "outputs": [
    {
     "data": {
      "text/plain": [
       "0.8666666666666667"
      ]
     },
     "execution_count": 19,
     "metadata": {},
     "output_type": "execute_result"
    }
   ],
   "source": [
    "dt_3.score(X_validation, Y_validation)"
   ]
  },
  {
   "cell_type": "code",
   "execution_count": 20,
   "id": "a28bdee6",
   "metadata": {},
   "outputs": [
    {
     "data": {
      "text/plain": [
       "{'criterion': 'gini',\n",
       " 'max_depth': 1,\n",
       " 'min_samples_leaf': 3,\n",
       " 'min_samples_split': 5}"
      ]
     },
     "execution_count": 20,
     "metadata": {},
     "output_type": "execute_result"
    }
   ],
   "source": [
    "# according to grid search, the parameters of the best model\n",
    "dt_3.best_params_"
   ]
  },
  {
   "cell_type": "markdown",
   "id": "004e8883",
   "metadata": {},
   "source": [
    "With the help of GridSearchCV module, it is clear that the best parameter to classify the best decision tree model is when we use the criterion as 'gini'."
   ]
  },
  {
   "cell_type": "code",
   "execution_count": 21,
   "id": "03d157a6",
   "metadata": {
    "scrolled": true
   },
   "outputs": [
    {
     "data": {
      "text/plain": [
       "0.8666666666666667"
      ]
     },
     "execution_count": 21,
     "metadata": {},
     "output_type": "execute_result"
    }
   ],
   "source": [
    "# best hyperparameter were extimated and created a model\n",
    "best_hyper = dt_3.best_estimator_\n",
    "\n",
    "best_hyper.score(X_validation, Y_validation)"
   ]
  },
  {
   "cell_type": "code",
   "execution_count": 22,
   "id": "1fb1f9db",
   "metadata": {
    "scrolled": true
   },
   "outputs": [
    {
     "data": {
      "image/png": "[encoded data removed]",
      "text/plain": [
       "<IPython.core.display.Image object>"
      ]
     },
     "execution_count": 22,
     "metadata": {},
     "output_type": "execute_result"
    }
   ],
   "source": [
    "# display third decision tree model\n",
    "utils.display_tree(best_hyper)"
   ]
  },
  {
   "cell_type": "code",
   "execution_count": 23,
   "id": "7a72af6b",
   "metadata": {},
   "outputs": [],
   "source": [
    "# prediction on validation and training set\n",
    "Y_val_pred = dt_1.predict(X_validation)\n",
    "Y_train_pred = dt_1.predict(X_train)"
   ]
  },
  {
   "cell_type": "markdown",
   "id": "9afa6c63",
   "metadata": {},
   "source": [
    "### Training accuracies "
   ]
  },
  {
   "cell_type": "code",
   "execution_count": 24,
   "id": "903d1e4a",
   "metadata": {},
   "outputs": [
    {
     "name": "stdout",
     "output_type": "stream",
     "text": [
      "              precision    recall  f1-score   support\n",
      "\n",
      "           0       0.81      0.89      0.85       161\n",
      "           1       0.71      0.58      0.64        78\n",
      "\n",
      "    accuracy                           0.79       239\n",
      "   macro avg       0.76      0.73      0.74       239\n",
      "weighted avg       0.78      0.79      0.78       239\n",
      "\n"
     ]
    }
   ],
   "source": [
    "# display the classification report\n",
    "print(classification_report(Y_train, Y_train_pred))"
   ]
  },
  {
   "cell_type": "code",
   "execution_count": 25,
   "id": "a29f7fa5",
   "metadata": {},
   "outputs": [
    {
     "data": {
      "image/png": "[encoded data removed]",
      "text/plain": [
       "<Figure size 640x480 with 2 Axes>"
      ]
     },
     "metadata": {},
     "output_type": "display_data"
    }
   ],
   "source": [
    "# display the confusion matrix\n",
    "con_mat = confusion_matrix(Y_train, Y_train_pred, labels = dt_1.classes_)\n",
    "disp = ConfusionMatrixDisplay(confusion_matrix = con_mat, display_labels = dt_1.classes_)\n",
    "disp.plot()\n",
    "plt.show()"
   ]
  },
  {
   "cell_type": "markdown",
   "id": "9f81d5e2",
   "metadata": {},
   "source": [
    "### Validation accuracies "
   ]
  },
  {
   "cell_type": "code",
   "execution_count": 26,
   "id": "c9430b2b",
   "metadata": {},
   "outputs": [
    {
     "name": "stdout",
     "output_type": "stream",
     "text": [
      "              precision    recall  f1-score   support\n",
      "\n",
      "           0       0.78      0.90      0.84        20\n",
      "           1       0.71      0.50      0.59        10\n",
      "\n",
      "    accuracy                           0.77        30\n",
      "   macro avg       0.75      0.70      0.71        30\n",
      "weighted avg       0.76      0.77      0.75        30\n",
      "\n"
     ]
    }
   ],
   "source": [
    "# display the classification report\n",
    "print(classification_report(Y_validation, Y_val_pred))"
   ]
  },
  {
   "cell_type": "code",
   "execution_count": 27,
   "id": "60540a9c",
   "metadata": {},
   "outputs": [
    {
     "data": {
      "image/png": "[encoded data removed]",
      "text/plain": [
       "<Figure size 640x480 with 2 Axes>"
      ]
     },
     "metadata": {},
     "output_type": "display_data"
    }
   ],
   "source": [
    "# display the confusion matrix\n",
    "con_mat = confusion_matrix(Y_validation, Y_val_pred, labels = dt_1.classes_)\n",
    "disp = ConfusionMatrixDisplay(confusion_matrix = con_mat, display_labels = dt_1.classes_)\n",
    "disp.plot()\n",
    "plt.show()"
   ]
  },
  {
   "cell_type": "markdown",
   "id": "6a51638c",
   "metadata": {},
   "source": [
    "**Select and justify your final choice of hyperparameters based on the training and validation metrics. Provide a written analysis in markdown.**"
   ]
  },
  {
   "cell_type": "markdown",
   "id": "f529439d",
   "metadata": {},
   "source": [
    "The first decision tree model can be considered as the optiomal solution even though its accuracy is not too much. The reason is because no matter the accuracy of the other two is high as compared to the first one, but the other two underfit the model and hence can not be considerded to be the best model choice.\n",
    "\n",
    "The final choice of hyperparameters are: {'criterion': 'gini', 'max_depth': 1,'min_samples_leaf': 3,\n",
    " 'min_samples_split': 5}, and these values are given by the GridSearchCV module."
   ]
  },
  {
   "cell_type": "markdown",
   "id": "afe8febe",
   "metadata": {},
   "source": [
    "# Support Vector Machine"
   ]
  },
  {
   "cell_type": "markdown",
   "id": "a2cb6caf",
   "metadata": {},
   "source": [
    "**Experiment with different values of the C parameter; try the linear, rbf (with different choices of gamma) and polynomial kernels (with different degrees).**"
   ]
  },
  {
   "cell_type": "code",
   "execution_count": 28,
   "id": "2a8b6f36",
   "metadata": {},
   "outputs": [
    {
     "data": {
      "text/plain": [
       "SVC(kernel='linear')"
      ]
     },
     "execution_count": 28,
     "metadata": {},
     "output_type": "execute_result"
    }
   ],
   "source": [
    "svm_1 = SVC(kernel = 'linear')\n",
    "svm_1.fit(X_train, Y_train)"
   ]
  },
  {
   "cell_type": "code",
   "execution_count": 29,
   "id": "72f12c75",
   "metadata": {},
   "outputs": [
    {
     "data": {
      "text/plain": [
       "0.8"
      ]
     },
     "execution_count": 29,
     "metadata": {},
     "output_type": "execute_result"
    }
   ],
   "source": [
    "svm_1.score(X_validation, Y_validation)"
   ]
  },
  {
   "cell_type": "code",
   "execution_count": 30,
   "id": "d4fbebac",
   "metadata": {},
   "outputs": [
    {
     "name": "stdout",
     "output_type": "stream",
     "text": [
      "C = 0.01\n",
      "Accuracy: 0.8\n"
     ]
    }
   ],
   "source": [
    "# C = 0.01\n",
    "svm_c_001 = SVC(kernel='linear', C=0.01 )\n",
    "svm_c_001.fit(X_train, Y_train)\n",
    "print(\"C = 0.01\")\n",
    "print(\"Accuracy:\", svm_c_001.score(X_validation, Y_validation))"
   ]
  },
  {
   "cell_type": "code",
   "execution_count": 31,
   "id": "12c4ea97",
   "metadata": {},
   "outputs": [
    {
     "name": "stdout",
     "output_type": "stream",
     "text": [
      "C = 400\n",
      "Accuracy: 0.4666666666666667\n"
     ]
    }
   ],
   "source": [
    "# C = 400\n",
    "svm_c_400 = SVC(kernel='linear', C=400, max_iter = 50)\n",
    "svm_c_400.fit(X_train, Y_train)\n",
    "print(\"C = 400\")\n",
    "print(\"Accuracy:\", svm_c_400.score(X_validation, Y_validation))"
   ]
  },
  {
   "cell_type": "code",
   "execution_count": 32,
   "id": "0ad176b1",
   "metadata": {},
   "outputs": [
    {
     "name": "stdout",
     "output_type": "stream",
     "text": [
      "Gamma = 1\n",
      "Accuracy: 0.939799331103679\n"
     ]
    }
   ],
   "source": [
    "# gamma = 1\n",
    "svm_gamma_1 = SVC(kernel='rbf', gamma=1)\n",
    "svm_gamma_1.fit(X_train, Y_train)\n",
    "print(\"Gamma = 1\")\n",
    "print(\"Accuracy:\", svm_gamma_1.score(features, labels))"
   ]
  },
  {
   "cell_type": "code",
   "execution_count": 33,
   "id": "83b71faa",
   "metadata": {},
   "outputs": [
    {
     "name": "stdout",
     "output_type": "stream",
     "text": [
      "Gamma = 20\n",
      "Accuracy: 0.939799331103679\n"
     ]
    }
   ],
   "source": [
    "# gamma = 20\n",
    "svm_gamma_20 = SVC(kernel='rbf', gamma=20)\n",
    "svm_gamma_20.fit(X_train, Y_train)\n",
    "print(\"Gamma = 20\")\n",
    "print(\"Accuracy:\", svm_gamma_20.score(features, labels))"
   ]
  },
  {
   "cell_type": "code",
   "execution_count": 34,
   "id": "ef24da07",
   "metadata": {},
   "outputs": [
    {
     "name": "stdout",
     "output_type": "stream",
     "text": [
      "Polynomial kernel of degree = 2\n",
      "Accuracy: 0.6666666666666666\n"
     ]
    }
   ],
   "source": [
    "# Degree = 2\n",
    "svm_degree_2 = SVC(kernel='poly', degree=2)\n",
    "svm_degree_2.fit(X_train, Y_train)\n",
    "print(\"Polynomial kernel of degree = 2\")\n",
    "print(\"Accuracy:\", svm_degree_2.score(X_validation, Y_validation))"
   ]
  },
  {
   "cell_type": "code",
   "execution_count": 35,
   "id": "c14efe82",
   "metadata": {},
   "outputs": [
    {
     "name": "stdout",
     "output_type": "stream",
     "text": [
      "Polynomial kernel of degree = 4\n",
      "Accuracy: 0.6666666666666666\n"
     ]
    }
   ],
   "source": [
    "# Degree = 4\n",
    "svm_degree_4 = SVC(kernel='poly', degree=4)\n",
    "svm_degree_4.fit(X_train, Y_train)\n",
    "print(\"Polynomial kernel of degree = 4\")\n",
    "print(\"Accuracy:\", svm_degree_4.score(X_validation, Y_validation))"
   ]
  },
  {
   "cell_type": "markdown",
   "id": "6ecac174",
   "metadata": {},
   "source": [
    "**Use the classification_report and confusion_matrix functions in sklearn todisplay metrics for your best models, using training and validation (but not testing) data.**"
   ]
  },
  {
   "cell_type": "code",
   "execution_count": 36,
   "id": "a4962f63",
   "metadata": {},
   "outputs": [],
   "source": [
    "svm_2 = GridSearchCV(SVC(gamma = 'auto', max_iter = 10)\n",
    "    , {\n",
    "        'C': [1,10,0.01]\n",
    "       , 'kernel': ['linear', 'rbf']\n",
    "      }\n",
    ")"
   ]
  },
  {
   "cell_type": "code",
   "execution_count": 37,
   "id": "28b334c0",
   "metadata": {},
   "outputs": [
    {
     "data": {
      "text/plain": [
       "GridSearchCV(estimator=SVC(gamma='auto', max_iter=10),\n",
       "             param_grid={'C': [1, 10, 0.01], 'kernel': ['linear', 'rbf']})"
      ]
     },
     "execution_count": 37,
     "metadata": {},
     "output_type": "execute_result"
    }
   ],
   "source": [
    "svm_2.fit(X_train, Y_train)"
   ]
  },
  {
   "cell_type": "code",
   "execution_count": 38,
   "id": "d81e576b",
   "metadata": {},
   "outputs": [
    {
     "data": {
      "text/plain": [
       "{'C': 1, 'kernel': 'linear'}"
      ]
     },
     "execution_count": 38,
     "metadata": {},
     "output_type": "execute_result"
    }
   ],
   "source": [
    "svm_2.best_params_"
   ]
  },
  {
   "cell_type": "code",
   "execution_count": 39,
   "id": "946992f0",
   "metadata": {},
   "outputs": [
    {
     "data": {
      "text/plain": [
       "0.4666666666666667"
      ]
     },
     "execution_count": 39,
     "metadata": {},
     "output_type": "execute_result"
    }
   ],
   "source": [
    "svm_2.score(X_validation, Y_validation)"
   ]
  },
  {
   "cell_type": "code",
   "execution_count": 40,
   "id": "0b9efa9c",
   "metadata": {},
   "outputs": [],
   "source": [
    "# prediction on validation and training set\n",
    "Y_val_pred = svm_1.predict(X_validation)\n",
    "Y_train_pred = svm_1.predict(X_train)"
   ]
  },
  {
   "cell_type": "markdown",
   "id": "93cbdd6b",
   "metadata": {},
   "source": [
    "## Training accuracies"
   ]
  },
  {
   "cell_type": "code",
   "execution_count": 41,
   "id": "22d92eda",
   "metadata": {},
   "outputs": [
    {
     "name": "stdout",
     "output_type": "stream",
     "text": [
      "              precision    recall  f1-score   support\n",
      "\n",
      "           0       0.86      0.90      0.88       161\n",
      "           1       0.77      0.69      0.73        78\n",
      "\n",
      "    accuracy                           0.83       239\n",
      "   macro avg       0.81      0.80      0.80       239\n",
      "weighted avg       0.83      0.83      0.83       239\n",
      "\n"
     ]
    }
   ],
   "source": [
    "# display the classification report\n",
    "print(classification_report(Y_train, Y_train_pred))"
   ]
  },
  {
   "cell_type": "code",
   "execution_count": 42,
   "id": "aeec1add",
   "metadata": {},
   "outputs": [
    {
     "data": {
      "image/png": "[encoded data removed]",
      "text/plain": [
       "<Figure size 640x480 with 2 Axes>"
      ]
     },
     "metadata": {},
     "output_type": "display_data"
    }
   ],
   "source": [
    "# display the confusion matrix\n",
    "con_mat = confusion_matrix(Y_train, Y_train_pred, labels = svm_1.classes_)\n",
    "disp = ConfusionMatrixDisplay(confusion_matrix = con_mat, display_labels = svm_1.classes_)\n",
    "disp.plot()\n",
    "plt.show()"
   ]
  },
  {
   "cell_type": "markdown",
   "id": "3fc5d19f",
   "metadata": {},
   "source": [
    "## Validation accuracies"
   ]
  },
  {
   "cell_type": "code",
   "execution_count": 43,
   "id": "3e774bc2",
   "metadata": {},
   "outputs": [
    {
     "name": "stdout",
     "output_type": "stream",
     "text": [
      "              precision    recall  f1-score   support\n",
      "\n",
      "           0       0.82      0.90      0.86        20\n",
      "           1       0.75      0.60      0.67        10\n",
      "\n",
      "    accuracy                           0.80        30\n",
      "   macro avg       0.78      0.75      0.76        30\n",
      "weighted avg       0.80      0.80      0.79        30\n",
      "\n"
     ]
    }
   ],
   "source": [
    "# display the classification report\n",
    "print(classification_report(Y_validation, Y_val_pred))"
   ]
  },
  {
   "cell_type": "code",
   "execution_count": 44,
   "id": "62737709",
   "metadata": {},
   "outputs": [
    {
     "data": {
      "image/png": "[encoded data removed]",
      "text/plain": [
       "<Figure size 640x480 with 2 Axes>"
      ]
     },
     "metadata": {},
     "output_type": "display_data"
    }
   ],
   "source": [
    "# display the confusion matrix\n",
    "con_mat = confusion_matrix(Y_validation, Y_val_pred, labels = svm_1.classes_)\n",
    "disp = ConfusionMatrixDisplay(confusion_matrix = con_mat, display_labels = svm_1.classes_)\n",
    "disp.plot()\n",
    "plt.show()"
   ]
  },
  {
   "cell_type": "markdown",
   "id": "94807ac1",
   "metadata": {},
   "source": [
    "**Comparison 1**"
   ]
  },
  {
   "cell_type": "markdown",
   "id": "33deb1ff",
   "metadata": {},
   "source": [
    "Out of the decision tree models, the first_decision_tree can be considered as the optimal solution and its accuracy is also high, also the other two models underfit."
   ]
  },
  {
   "cell_type": "markdown",
   "id": "e610cab7",
   "metadata": {},
   "source": [
    "**Comparison 2**"
   ]
  },
  {
   "cell_type": "code",
   "execution_count": 45,
   "id": "29c6ae46",
   "metadata": {},
   "outputs": [],
   "source": [
    "Y_test_pred = svm_1.predict(X_test)"
   ]
  },
  {
   "cell_type": "code",
   "execution_count": 46,
   "id": "f64894d0",
   "metadata": {},
   "outputs": [
    {
     "name": "stdout",
     "output_type": "stream",
     "text": [
      "              precision    recall  f1-score   support\n",
      "\n",
      "           0       0.80      0.91      0.85        22\n",
      "           1       0.60      0.38      0.46         8\n",
      "\n",
      "    accuracy                           0.77        30\n",
      "   macro avg       0.70      0.64      0.66        30\n",
      "weighted avg       0.75      0.77      0.75        30\n",
      "\n"
     ]
    }
   ],
   "source": [
    "# display the classification report\n",
    "print(classification_report(Y_test, Y_test_pred))"
   ]
  },
  {
   "cell_type": "code",
   "execution_count": 47,
   "id": "71acb7cf",
   "metadata": {},
   "outputs": [
    {
     "data": {
      "image/png": "[encoded data removed]",
      "text/plain": [
       "<Figure size 640x480 with 2 Axes>"
      ]
     },
     "metadata": {},
     "output_type": "display_data"
    }
   ],
   "source": [
    "# display the confusion matrix\n",
    "con_mat = confusion_matrix(Y_test, Y_test_pred, labels = dt_1.classes_)\n",
    "disp = ConfusionMatrixDisplay(confusion_matrix = con_mat, display_labels = svm_1.classes_)\n",
    "disp.plot()\n",
    "plt.show()"
   ]
  },
  {
   "cell_type": "markdown",
   "id": "379b96ec",
   "metadata": {},
   "source": [
    "**Comparison 3**"
   ]
  },
  {
   "cell_type": "markdown",
   "id": "4fcc401c",
   "metadata": {},
   "source": [
    "The best model id dt_1 as it can be considered as optimal solution whereas some underfits.\n",
    "For the use case of my model, decision tree is better than the svm, as the accuracy is high and gives the optimal solutions."
   ]
  }
 ],
 "metadata": {
  "kernelspec": {
   "display_name": "Python 3 (ipykernel)",
   "language": "python",
   "name": "python3"
  },
  "language_info": {
   "codemirror_mode": {
    "name": "ipython",
    "version": 3
   },
   "file_extension": ".py",
   "mimetype": "text/x-python",
   "name": "python",
   "nbconvert_exporter": "python",
   "pygments_lexer": "ipython3",
   "version": "3.7.17"
  }
 },
 "nbformat": 4,
 "nbformat_minor": 5
}
