{
 "cells": [
  {
   "cell_type": "markdown",
   "id": "4fe8d94e",
   "metadata": {},
   "source": [
    "# COMP_2704: Supervised Machine Learning\n",
    "## Final Project\n",
    "### Jasleen Kaur\n",
    "> **Use Case and Data Selection: Requirements**\n",
    "\n",
    "> **Decision Tree**\n",
    "\n",
    "> **Support Vector Machine**"
   ]
  },
  {
   "cell_type": "code",
   "execution_count": 1,
   "id": "6036852d",
   "metadata": {},
   "outputs": [],
   "source": [
    "import numpy as np\n",
    "import pandas as pd\n",
    "import matplotlib.pyplot as plt\n",
    "import seaborn as sb\n",
    "import utils\n",
    "from sklearn.tree import DecisionTreeClassifier\n",
    "from sklearn.model_selection import train_test_split, GridSearchCV\n",
    "from sklearn.metrics import confusion_matrix, ConfusionMatrixDisplay, classification_report\n",
    "from sklearn.svm import SVC"
   ]
  },
  {
   "cell_type": "markdown",
   "id": "7dc38561",
   "metadata": {},
   "source": [
    "# Use Case and Data Selection: Requirements"
   ]
  },
  {
   "cell_type": "markdown",
   "id": "8c9eb46e",
   "metadata": {},
   "source": [
    "## Question 1"
   ]
  },
  {
   "cell_type": "markdown",
   "id": "ec8b662a",
   "metadata": {},
   "source": [
    "**Realistic use case for data with at least three classes, written in markdown. Provide a description of each feature in the data set.**"
   ]
  },
  {
   "cell_type": "markdown",
   "id": "eadae40a",
   "metadata": {},
   "source": [
    "## Answer 1"
   ]
  },
  {
   "cell_type": "markdown",
   "id": "a78ed375",
   "metadata": {},
   "source": [
    "The heart failure clinical data can be used to develop a predictive model based on their risk of heart failure: low-risk, medium-risk, high-risk.\n",
    "\n",
    "1. low-risk - intensive care and treatment\n",
    "2. medium-risk - medication management, lifestyle changes, close monitoring\n",
    "3. high-risk - frequent monitoring, lifestyle modyfications, early treatment"
   ]
  },
  {
   "cell_type": "markdown",
   "id": "3d6751ac",
   "metadata": {},
   "source": [
    "This dataset contains **299 records** and **12 features** that can be used to predict mortality by heart failure.\n",
    "\n",
    "Following are the 12 features of this dataset:\n",
    "\n",
    "1. age (45 to 90) - age of the patient in years\n",
    "2. anaemia - decrease of red blood cells or hemoglobin (boolean)\n",
    "3. creatinine_phosphokinase - level of the CPK enzyme in the blood (mcg/L)\n",
    "4. diabetes - if the patient has diabetes (boolean)\n",
    "5. ejection_fraction - percentage of blood leaving the heart at each contraction (percentage)\n",
    "6. high_blood_pressure - if the patient has hypertension (boolean)\n",
    "7. platelets - platelets in the blood (kiloplatelets/mL)\n",
    "8. serum_creatinine - level of serum creatinine in the blood (mg/dL)\n",
    "9. serum_sodium - level of serum sodium in the blood (mEq/L)\n",
    "10. sex - woman or man (binary)\n",
    "11. smoking - if the patient smokes or not (boolean)\n",
    "12. time - follow-up period (days)\n",
    "\n",
    "The prediction is the DEATH_EVENT, which is either 1(yes) or 0(no) - if the patient died during the follow-up period (boolean)"
   ]
  },
  {
   "cell_type": "markdown",
   "id": "04535af8",
   "metadata": {},
   "source": [
    "## Question 2"
   ]
  },
  {
   "cell_type": "markdown",
   "id": "1c6bdf91",
   "metadata": {},
   "source": [
    "**Discussion of prediction errors. Are false positives or negatives for one of the classes to be avoided? Or are all errors equally bad?**"
   ]
  },
  {
   "cell_type": "markdown",
   "id": "1e2a0d83",
   "metadata": {},
   "source": [
    "## Answer 2"
   ]
  },
  {
   "cell_type": "markdown",
   "id": "17b2544b",
   "metadata": {},
   "source": [
    "**False Positive:** Actually low-risk, Predicted high-risk.\n",
    "\n",
    "**False Negative:** Actually high-risk, Predicted low-risk.\n",
    "\n",
    "According to me, after having a clear understanding of the data, I think that false negatives are generally more concerning than the false positives. On the other hand, false positives means that treating low-risk patients with extra care, testing.\n",
    "Therefore, the model should be optimized to minimize false negatives."
   ]
  },
  {
   "cell_type": "markdown",
   "id": "f45d9bb3",
   "metadata": {},
   "source": [
    "## Question 3"
   ]
  },
  {
   "cell_type": "markdown",
   "id": "91c9e699",
   "metadata": {},
   "source": [
    "**Data cleaning, with check that it is clean using Pandas. Save the data as a CSV file for later use.**"
   ]
  },
  {
   "cell_type": "markdown",
   "id": "87554706",
   "metadata": {},
   "source": [
    "## Answer 3"
   ]
  },
  {
   "cell_type": "code",
   "execution_count": 2,
   "id": "1d674d7d",
   "metadata": {},
   "outputs": [
    {
     "data": {
      "text/html": [
       "<div>\n",
       "<style scoped>\n",
       "    .dataframe tbody tr th:only-of-type {\n",
       "        vertical-align: middle;\n",
       "    }\n",
       "\n",
       "    .dataframe tbody tr th {\n",
       "        vertical-align: top;\n",
       "    }\n",
       "\n",
       "    .dataframe thead th {\n",
       "        text-align: right;\n",
       "    }\n",
       "</style>\n",
       "<table border=\"1\" class=\"dataframe\">\n",
       "  <thead>\n",
       "    <tr style=\"text-align: right;\">\n",
       "      <th></th>\n",
       "      <th>age</th>\n",
       "      <th>anaemia</th>\n",
       "      <th>creatinine_phosphokinase</th>\n",
       "      <th>diabetes</th>\n",
       "      <th>ejection_fraction</th>\n",
       "      <th>high_blood_pressure</th>\n",
       "      <th>platelets</th>\n",
       "      <th>serum_creatinine</th>\n",
       "      <th>serum_sodium</th>\n",
       "      <th>sex</th>\n",
       "      <th>smoking</th>\n",
       "      <th>time</th>\n",
       "      <th>DEATH_EVENT</th>\n",
       "    </tr>\n",
       "  </thead>\n",
       "  <tbody>\n",
       "    <tr>\n",
       "      <th>0</th>\n",
       "      <td>75.0</td>\n",
       "      <td>0</td>\n",
       "      <td>582</td>\n",
       "      <td>0</td>\n",
       "      <td>20</td>\n",
       "      <td>1</td>\n",
       "      <td>265000.00</td>\n",
       "      <td>1.9</td>\n",
       "      <td>130</td>\n",
       "      <td>1</td>\n",
       "      <td>0</td>\n",
       "      <td>4</td>\n",
       "      <td>1</td>\n",
       "    </tr>\n",
       "    <tr>\n",
       "      <th>1</th>\n",
       "      <td>55.0</td>\n",
       "      <td>0</td>\n",
       "      <td>7861</td>\n",
       "      <td>0</td>\n",
       "      <td>38</td>\n",
       "      <td>0</td>\n",
       "      <td>263358.03</td>\n",
       "      <td>1.1</td>\n",
       "      <td>136</td>\n",
       "      <td>1</td>\n",
       "      <td>0</td>\n",
       "      <td>6</td>\n",
       "      <td>1</td>\n",
       "    </tr>\n",
       "    <tr>\n",
       "      <th>2</th>\n",
       "      <td>65.0</td>\n",
       "      <td>0</td>\n",
       "      <td>146</td>\n",
       "      <td>0</td>\n",
       "      <td>20</td>\n",
       "      <td>0</td>\n",
       "      <td>162000.00</td>\n",
       "      <td>1.3</td>\n",
       "      <td>129</td>\n",
       "      <td>1</td>\n",
       "      <td>1</td>\n",
       "      <td>7</td>\n",
       "      <td>1</td>\n",
       "    </tr>\n",
       "    <tr>\n",
       "      <th>3</th>\n",
       "      <td>50.0</td>\n",
       "      <td>1</td>\n",
       "      <td>111</td>\n",
       "      <td>0</td>\n",
       "      <td>20</td>\n",
       "      <td>0</td>\n",
       "      <td>210000.00</td>\n",
       "      <td>1.9</td>\n",
       "      <td>137</td>\n",
       "      <td>1</td>\n",
       "      <td>0</td>\n",
       "      <td>7</td>\n",
       "      <td>1</td>\n",
       "    </tr>\n",
       "    <tr>\n",
       "      <th>4</th>\n",
       "      <td>65.0</td>\n",
       "      <td>1</td>\n",
       "      <td>160</td>\n",
       "      <td>1</td>\n",
       "      <td>20</td>\n",
       "      <td>0</td>\n",
       "      <td>327000.00</td>\n",
       "      <td>2.7</td>\n",
       "      <td>116</td>\n",
       "      <td>0</td>\n",
       "      <td>0</td>\n",
       "      <td>8</td>\n",
       "      <td>1</td>\n",
       "    </tr>\n",
       "    <tr>\n",
       "      <th>...</th>\n",
       "      <td>...</td>\n",
       "      <td>...</td>\n",
       "      <td>...</td>\n",
       "      <td>...</td>\n",
       "      <td>...</td>\n",
       "      <td>...</td>\n",
       "      <td>...</td>\n",
       "      <td>...</td>\n",
       "      <td>...</td>\n",
       "      <td>...</td>\n",
       "      <td>...</td>\n",
       "      <td>...</td>\n",
       "      <td>...</td>\n",
       "    </tr>\n",
       "    <tr>\n",
       "      <th>294</th>\n",
       "      <td>62.0</td>\n",
       "      <td>0</td>\n",
       "      <td>61</td>\n",
       "      <td>1</td>\n",
       "      <td>38</td>\n",
       "      <td>1</td>\n",
       "      <td>155000.00</td>\n",
       "      <td>1.1</td>\n",
       "      <td>143</td>\n",
       "      <td>1</td>\n",
       "      <td>1</td>\n",
       "      <td>270</td>\n",
       "      <td>0</td>\n",
       "    </tr>\n",
       "    <tr>\n",
       "      <th>295</th>\n",
       "      <td>55.0</td>\n",
       "      <td>0</td>\n",
       "      <td>1820</td>\n",
       "      <td>0</td>\n",
       "      <td>38</td>\n",
       "      <td>0</td>\n",
       "      <td>270000.00</td>\n",
       "      <td>1.2</td>\n",
       "      <td>139</td>\n",
       "      <td>0</td>\n",
       "      <td>0</td>\n",
       "      <td>271</td>\n",
       "      <td>0</td>\n",
       "    </tr>\n",
       "    <tr>\n",
       "      <th>296</th>\n",
       "      <td>45.0</td>\n",
       "      <td>0</td>\n",
       "      <td>2060</td>\n",
       "      <td>1</td>\n",
       "      <td>60</td>\n",
       "      <td>0</td>\n",
       "      <td>742000.00</td>\n",
       "      <td>0.8</td>\n",
       "      <td>138</td>\n",
       "      <td>0</td>\n",
       "      <td>0</td>\n",
       "      <td>278</td>\n",
       "      <td>0</td>\n",
       "    </tr>\n",
       "    <tr>\n",
       "      <th>297</th>\n",
       "      <td>45.0</td>\n",
       "      <td>0</td>\n",
       "      <td>2413</td>\n",
       "      <td>0</td>\n",
       "      <td>38</td>\n",
       "      <td>0</td>\n",
       "      <td>140000.00</td>\n",
       "      <td>1.4</td>\n",
       "      <td>140</td>\n",
       "      <td>1</td>\n",
       "      <td>1</td>\n",
       "      <td>280</td>\n",
       "      <td>0</td>\n",
       "    </tr>\n",
       "    <tr>\n",
       "      <th>298</th>\n",
       "      <td>50.0</td>\n",
       "      <td>0</td>\n",
       "      <td>196</td>\n",
       "      <td>0</td>\n",
       "      <td>45</td>\n",
       "      <td>0</td>\n",
       "      <td>395000.00</td>\n",
       "      <td>1.6</td>\n",
       "      <td>136</td>\n",
       "      <td>1</td>\n",
       "      <td>1</td>\n",
       "      <td>285</td>\n",
       "      <td>0</td>\n",
       "    </tr>\n",
       "  </tbody>\n",
       "</table>\n",
       "<p>299 rows × 13 columns</p>\n",
       "</div>"
      ],
      "text/plain": [
       "      age  anaemia  creatinine_phosphokinase  diabetes  ejection_fraction  \\\n",
       "0    75.0        0                       582         0                 20   \n",
       "1    55.0        0                      7861         0                 38   \n",
       "2    65.0        0                       146         0                 20   \n",
       "3    50.0        1                       111         0                 20   \n",
       "4    65.0        1                       160         1                 20   \n",
       "..    ...      ...                       ...       ...                ...   \n",
       "294  62.0        0                        61         1                 38   \n",
       "295  55.0        0                      1820         0                 38   \n",
       "296  45.0        0                      2060         1                 60   \n",
       "297  45.0        0                      2413         0                 38   \n",
       "298  50.0        0                       196         0                 45   \n",
       "\n",
       "     high_blood_pressure  platelets  serum_creatinine  serum_sodium  sex  \\\n",
       "0                      1  265000.00               1.9           130    1   \n",
       "1                      0  263358.03               1.1           136    1   \n",
       "2                      0  162000.00               1.3           129    1   \n",
       "3                      0  210000.00               1.9           137    1   \n",
       "4                      0  327000.00               2.7           116    0   \n",
       "..                   ...        ...               ...           ...  ...   \n",
       "294                    1  155000.00               1.1           143    1   \n",
       "295                    0  270000.00               1.2           139    0   \n",
       "296                    0  742000.00               0.8           138    0   \n",
       "297                    0  140000.00               1.4           140    1   \n",
       "298                    0  395000.00               1.6           136    1   \n",
       "\n",
       "     smoking  time  DEATH_EVENT  \n",
       "0          0     4            1  \n",
       "1          0     6            1  \n",
       "2          1     7            1  \n",
       "3          0     7            1  \n",
       "4          0     8            1  \n",
       "..       ...   ...          ...  \n",
       "294        1   270            0  \n",
       "295        0   271            0  \n",
       "296        0   278            0  \n",
       "297        1   280            0  \n",
       "298        1   285            0  \n",
       "\n",
       "[299 rows x 13 columns]"
      ]
     },
     "execution_count": 2,
     "metadata": {},
     "output_type": "execute_result"
    }
   ],
   "source": [
    "# load data into pandas dataframe called df\n",
    "df = pd.read_csv(\"heart_failure_clinical_records_dataset.csv\")\n",
    "df"
   ]
  },
  {
   "cell_type": "code",
   "execution_count": 3,
   "id": "6d3f5c1c",
   "metadata": {},
   "outputs": [
    {
     "name": "stdout",
     "output_type": "stream",
     "text": [
      "<class 'pandas.core.frame.DataFrame'>\n",
      "RangeIndex: 299 entries, 0 to 298\n",
      "Data columns (total 13 columns):\n",
      " #   Column                    Non-Null Count  Dtype  \n",
      "---  ------                    --------------  -----  \n",
      " 0   age                       299 non-null    float64\n",
      " 1   anaemia                   299 non-null    int64  \n",
      " 2   creatinine_phosphokinase  299 non-null    int64  \n",
      " 3   diabetes                  299 non-null    int64  \n",
      " 4   ejection_fraction         299 non-null    int64  \n",
      " 5   high_blood_pressure       299 non-null    int64  \n",
      " 6   platelets                 299 non-null    float64\n",
      " 7   serum_creatinine          299 non-null    float64\n",
      " 8   serum_sodium              299 non-null    int64  \n",
      " 9   sex                       299 non-null    int64  \n",
      " 10  smoking                   299 non-null    int64  \n",
      " 11  time                      299 non-null    int64  \n",
      " 12  DEATH_EVENT               299 non-null    int64  \n",
      "dtypes: float64(3), int64(10)\n",
      "memory usage: 30.5 KB\n"
     ]
    }
   ],
   "source": [
    "# checking if there is any datatype other than int or float\n",
    "df.info()"
   ]
  },
  {
   "cell_type": "code",
   "execution_count": 4,
   "id": "fb9a52de",
   "metadata": {},
   "outputs": [],
   "source": [
    "# saving the data as csv file\n",
    "df.to_csv('heart_failure_data.csv', index = False)"
   ]
  },
  {
   "cell_type": "markdown",
   "id": "488f8b61",
   "metadata": {},
   "source": [
    "## Question 4"
   ]
  },
  {
   "cell_type": "markdown",
   "id": "07a403b0",
   "metadata": {},
   "source": [
    "**Statistical or categorical description using the Pandas describe function. Provide written observations.**"
   ]
  },
  {
   "cell_type": "markdown",
   "id": "519e1b1b",
   "metadata": {},
   "source": [
    "## Answer 4"
   ]
  },
  {
   "cell_type": "code",
   "execution_count": 5,
   "id": "b79c2c81",
   "metadata": {},
   "outputs": [
    {
     "data": {
      "text/html": [
       "<div>\n",
       "<style scoped>\n",
       "    .dataframe tbody tr th:only-of-type {\n",
       "        vertical-align: middle;\n",
       "    }\n",
       "\n",
       "    .dataframe tbody tr th {\n",
       "        vertical-align: top;\n",
       "    }\n",
       "\n",
       "    .dataframe thead th {\n",
       "        text-align: right;\n",
       "    }\n",
       "</style>\n",
       "<table border=\"1\" class=\"dataframe\">\n",
       "  <thead>\n",
       "    <tr style=\"text-align: right;\">\n",
       "      <th></th>\n",
       "      <th>age</th>\n",
       "      <th>anaemia</th>\n",
       "      <th>creatinine_phosphokinase</th>\n",
       "      <th>diabetes</th>\n",
       "      <th>ejection_fraction</th>\n",
       "      <th>high_blood_pressure</th>\n",
       "      <th>platelets</th>\n",
       "      <th>serum_creatinine</th>\n",
       "      <th>serum_sodium</th>\n",
       "      <th>sex</th>\n",
       "      <th>smoking</th>\n",
       "      <th>time</th>\n",
       "      <th>DEATH_EVENT</th>\n",
       "    </tr>\n",
       "  </thead>\n",
       "  <tbody>\n",
       "    <tr>\n",
       "      <th>count</th>\n",
       "      <td>299.000000</td>\n",
       "      <td>299.000000</td>\n",
       "      <td>299.000000</td>\n",
       "      <td>299.000000</td>\n",
       "      <td>299.000000</td>\n",
       "      <td>299.000000</td>\n",
       "      <td>299.000000</td>\n",
       "      <td>299.00000</td>\n",
       "      <td>299.000000</td>\n",
       "      <td>299.000000</td>\n",
       "      <td>299.00000</td>\n",
       "      <td>299.000000</td>\n",
       "      <td>299.00000</td>\n",
       "    </tr>\n",
       "    <tr>\n",
       "      <th>mean</th>\n",
       "      <td>60.833893</td>\n",
       "      <td>0.431438</td>\n",
       "      <td>581.839465</td>\n",
       "      <td>0.418060</td>\n",
       "      <td>38.083612</td>\n",
       "      <td>0.351171</td>\n",
       "      <td>263358.029264</td>\n",
       "      <td>1.39388</td>\n",
       "      <td>136.625418</td>\n",
       "      <td>0.648829</td>\n",
       "      <td>0.32107</td>\n",
       "      <td>130.260870</td>\n",
       "      <td>0.32107</td>\n",
       "    </tr>\n",
       "    <tr>\n",
       "      <th>std</th>\n",
       "      <td>11.894809</td>\n",
       "      <td>0.496107</td>\n",
       "      <td>970.287881</td>\n",
       "      <td>0.494067</td>\n",
       "      <td>11.834841</td>\n",
       "      <td>0.478136</td>\n",
       "      <td>97804.236869</td>\n",
       "      <td>1.03451</td>\n",
       "      <td>4.412477</td>\n",
       "      <td>0.478136</td>\n",
       "      <td>0.46767</td>\n",
       "      <td>77.614208</td>\n",
       "      <td>0.46767</td>\n",
       "    </tr>\n",
       "    <tr>\n",
       "      <th>min</th>\n",
       "      <td>40.000000</td>\n",
       "      <td>0.000000</td>\n",
       "      <td>23.000000</td>\n",
       "      <td>0.000000</td>\n",
       "      <td>14.000000</td>\n",
       "      <td>0.000000</td>\n",
       "      <td>25100.000000</td>\n",
       "      <td>0.50000</td>\n",
       "      <td>113.000000</td>\n",
       "      <td>0.000000</td>\n",
       "      <td>0.00000</td>\n",
       "      <td>4.000000</td>\n",
       "      <td>0.00000</td>\n",
       "    </tr>\n",
       "    <tr>\n",
       "      <th>25%</th>\n",
       "      <td>51.000000</td>\n",
       "      <td>0.000000</td>\n",
       "      <td>116.500000</td>\n",
       "      <td>0.000000</td>\n",
       "      <td>30.000000</td>\n",
       "      <td>0.000000</td>\n",
       "      <td>212500.000000</td>\n",
       "      <td>0.90000</td>\n",
       "      <td>134.000000</td>\n",
       "      <td>0.000000</td>\n",
       "      <td>0.00000</td>\n",
       "      <td>73.000000</td>\n",
       "      <td>0.00000</td>\n",
       "    </tr>\n",
       "    <tr>\n",
       "      <th>50%</th>\n",
       "      <td>60.000000</td>\n",
       "      <td>0.000000</td>\n",
       "      <td>250.000000</td>\n",
       "      <td>0.000000</td>\n",
       "      <td>38.000000</td>\n",
       "      <td>0.000000</td>\n",
       "      <td>262000.000000</td>\n",
       "      <td>1.10000</td>\n",
       "      <td>137.000000</td>\n",
       "      <td>1.000000</td>\n",
       "      <td>0.00000</td>\n",
       "      <td>115.000000</td>\n",
       "      <td>0.00000</td>\n",
       "    </tr>\n",
       "    <tr>\n",
       "      <th>75%</th>\n",
       "      <td>70.000000</td>\n",
       "      <td>1.000000</td>\n",
       "      <td>582.000000</td>\n",
       "      <td>1.000000</td>\n",
       "      <td>45.000000</td>\n",
       "      <td>1.000000</td>\n",
       "      <td>303500.000000</td>\n",
       "      <td>1.40000</td>\n",
       "      <td>140.000000</td>\n",
       "      <td>1.000000</td>\n",
       "      <td>1.00000</td>\n",
       "      <td>203.000000</td>\n",
       "      <td>1.00000</td>\n",
       "    </tr>\n",
       "    <tr>\n",
       "      <th>max</th>\n",
       "      <td>95.000000</td>\n",
       "      <td>1.000000</td>\n",
       "      <td>7861.000000</td>\n",
       "      <td>1.000000</td>\n",
       "      <td>80.000000</td>\n",
       "      <td>1.000000</td>\n",
       "      <td>850000.000000</td>\n",
       "      <td>9.40000</td>\n",
       "      <td>148.000000</td>\n",
       "      <td>1.000000</td>\n",
       "      <td>1.00000</td>\n",
       "      <td>285.000000</td>\n",
       "      <td>1.00000</td>\n",
       "    </tr>\n",
       "  </tbody>\n",
       "</table>\n",
       "</div>"
      ],
      "text/plain": [
       "              age     anaemia  creatinine_phosphokinase    diabetes  \\\n",
       "count  299.000000  299.000000                299.000000  299.000000   \n",
       "mean    60.833893    0.431438                581.839465    0.418060   \n",
       "std     11.894809    0.496107                970.287881    0.494067   \n",
       "min     40.000000    0.000000                 23.000000    0.000000   \n",
       "25%     51.000000    0.000000                116.500000    0.000000   \n",
       "50%     60.000000    0.000000                250.000000    0.000000   \n",
       "75%     70.000000    1.000000                582.000000    1.000000   \n",
       "max     95.000000    1.000000               7861.000000    1.000000   \n",
       "\n",
       "       ejection_fraction  high_blood_pressure      platelets  \\\n",
       "count         299.000000           299.000000     299.000000   \n",
       "mean           38.083612             0.351171  263358.029264   \n",
       "std            11.834841             0.478136   97804.236869   \n",
       "min            14.000000             0.000000   25100.000000   \n",
       "25%            30.000000             0.000000  212500.000000   \n",
       "50%            38.000000             0.000000  262000.000000   \n",
       "75%            45.000000             1.000000  303500.000000   \n",
       "max            80.000000             1.000000  850000.000000   \n",
       "\n",
       "       serum_creatinine  serum_sodium         sex    smoking        time  \\\n",
       "count         299.00000    299.000000  299.000000  299.00000  299.000000   \n",
       "mean            1.39388    136.625418    0.648829    0.32107  130.260870   \n",
       "std             1.03451      4.412477    0.478136    0.46767   77.614208   \n",
       "min             0.50000    113.000000    0.000000    0.00000    4.000000   \n",
       "25%             0.90000    134.000000    0.000000    0.00000   73.000000   \n",
       "50%             1.10000    137.000000    1.000000    0.00000  115.000000   \n",
       "75%             1.40000    140.000000    1.000000    1.00000  203.000000   \n",
       "max             9.40000    148.000000    1.000000    1.00000  285.000000   \n",
       "\n",
       "       DEATH_EVENT  \n",
       "count    299.00000  \n",
       "mean       0.32107  \n",
       "std        0.46767  \n",
       "min        0.00000  \n",
       "25%        0.00000  \n",
       "50%        0.00000  \n",
       "75%        1.00000  \n",
       "max        1.00000  "
      ]
     },
     "execution_count": 5,
     "metadata": {},
     "output_type": "execute_result"
    }
   ],
   "source": [
    "# description of the data using pandas describe function\n",
    "df.describe()"
   ]
  },
  {
   "cell_type": "markdown",
   "id": "558c1044",
   "metadata": {},
   "source": [
    "**Observations**\n",
    "\n",
    "By using the pandas describe function, I can conclude that:\n",
    "1. There are 299 records for each of the feature.\n",
    "2. The mean, standard deviation, minimum value, 25%, 50% & 75% of each feature, and the maximum value of each feature is displayed."
   ]
  },
  {
   "cell_type": "markdown",
   "id": "5482437b",
   "metadata": {},
   "source": [
    "## Question 5"
   ]
  },
  {
   "cell_type": "markdown",
   "id": "9fb4adc8",
   "metadata": {},
   "source": [
    "**Bar graph showing the count of each class. Provide written observations.**"
   ]
  },
  {
   "cell_type": "markdown",
   "id": "8e1bddbd",
   "metadata": {},
   "source": [
    "## Answer 5"
   ]
  },
  {
   "cell_type": "code",
   "execution_count": 6,
   "id": "1c790a61",
   "metadata": {},
   "outputs": [
    {
     "data": {
      "text/plain": [
       "Text(0.5, 1.0, 'Death Event v/s Count of the Patients')"
      ]
     },
     "execution_count": 6,
     "metadata": {},
     "output_type": "execute_result"
    },
    {
     "data": {
      "image/png": "[encoded data removed]",
      "text/plain": [
       "<Figure size 640x480 with 1 Axes>"
      ]
     },
     "metadata": {},
     "output_type": "display_data"
    }
   ],
   "source": [
    "# using countplot to plot the bar graph of the class \n",
    "sb.countplot(data = df, x = 'DEATH_EVENT')\n",
    "\n",
    "# count the exact number of patients\n",
    "counts = df['DEATH_EVENT'].value_counts()\n",
    "\n",
    "# printing the count for each event\n",
    "for i, count in enumerate(counts):\n",
    "    plt.text(i, count, str(count), ha = 'center')\n",
    "    \n",
    "# giving title to the bar graph\n",
    "plt.title('Death Event v/s Count of the Patients')"
   ]
  },
  {
   "cell_type": "code",
   "execution_count": 7,
   "id": "528831b9",
   "metadata": {},
   "outputs": [],
   "source": [
    "# check the exact number of patients who experienced death or not\n",
    "# count = df['DEATH_EVENT'].value_counts()\n",
    "# print(count)"
   ]
  },
  {
   "cell_type": "markdown",
   "id": "010c74ca",
   "metadata": {},
   "source": [
    "**Observations**\n",
    "\n",
    "In this bar graph, 0 represents that the patients did not experience death, whereas 1 represents that the patients experienced death. So, according to this graph, 203 patients did not experience death, whereas 96 patients experienced death."
   ]
  },
  {
   "cell_type": "markdown",
   "id": "915d453b",
   "metadata": {},
   "source": [
    "# Decision Tree"
   ]
  },
  {
   "cell_type": "markdown",
   "id": "d052f3fb",
   "metadata": {},
   "source": [
    "## Question 1"
   ]
  },
  {
   "cell_type": "markdown",
   "id": "ec4c3d34",
   "metadata": {},
   "source": [
    "**Split the data into training, validation, and testing sets. Try different proportions and justify the final choices.**"
   ]
  },
  {
   "cell_type": "markdown",
   "id": "b86c62aa",
   "metadata": {},
   "source": [
    "Splitting the data into training/validation/testing sets is in the following cells."
   ]
  },
  {
   "cell_type": "markdown",
   "id": "b5c3fe86",
   "metadata": {},
   "source": [
    "**Justification**\n",
    "\n",
    "Using 80%/10%/10% criteria for splitting as the dataset is not too large, and so that it will give more in training the data."
   ]
  },
  {
   "cell_type": "markdown",
   "id": "a2cf2362",
   "metadata": {},
   "source": [
    "## Question 2"
   ]
  },
  {
   "cell_type": "markdown",
   "id": "6df43f41",
   "metadata": {},
   "source": [
    "**Try both Gini impurity index and Entropy as a condition for splitting branches. Experiment with different values of max_depth, max_features, min_impurity_decrease, min_samples_leaf, min_samples_split, and any other hyperparameters you wish. Keep your best two (or more) models.**"
   ]
  },
  {
   "cell_type": "markdown",
   "id": "bf3bb779",
   "metadata": {},
   "source": [
    "## Answer 2"
   ]
  },
  {
   "cell_type": "code",
   "execution_count": 8,
   "id": "66cebebe",
   "metadata": {},
   "outputs": [],
   "source": [
    "X = features = df.drop(['DEATH_EVENT'], axis =1)\n",
    "Y = labels = df['DEATH_EVENT']"
   ]
  },
  {
   "cell_type": "markdown",
   "id": "e797cd4f",
   "metadata": {},
   "source": [
    "### First Decision Tree"
   ]
  },
  {
   "cell_type": "code",
   "execution_count": 9,
   "id": "32c363b5",
   "metadata": {},
   "outputs": [],
   "source": [
    "X_train, X_validation_test, Y_train, Y_validation_test =train_test_split(X, Y, test_size=0.2)\n",
    "X_validation, X_test, Y_validation, Y_test =train_test_split(X_validation_test, Y_validation_test, test_size=0.5)"
   ]
  },
  {
   "cell_type": "code",
   "execution_count": 10,
   "id": "80bcf3af",
   "metadata": {},
   "outputs": [],
   "source": [
    "dt_1 = DecisionTreeClassifier(criterion = 'gini', max_depth=3, max_features=3\n",
    "                              , min_impurity_decrease=0.0, min_samples_leaf=5\n",
    "                              , min_samples_split=5,random_state=12)"
   ]
  },
  {
   "cell_type": "code",
   "execution_count": 11,
   "id": "63a38713",
   "metadata": {},
   "outputs": [
    {
     "data": {
      "text/plain": [
       "DecisionTreeClassifier(max_depth=3, max_features=3, min_samples_leaf=5,\n",
       "                       min_samples_split=5, random_state=12)"
      ]
     },
     "execution_count": 11,
     "metadata": {},
     "output_type": "execute_result"
    }
   ],
   "source": [
    "dt_1.fit(X_train, Y_train)"
   ]
  },
  {
   "cell_type": "code",
   "execution_count": 12,
   "id": "6d7333f4",
   "metadata": {},
   "outputs": [
    {
     "data": {
      "image/png": "[encoded data removed]",
      "text/plain": [
       "<IPython.core.display.Image object>"
      ]
     },
     "execution_count": 12,
     "metadata": {},
     "output_type": "execute_result"
    }
   ],
   "source": [
    "# display first decision tree model\n",
    "utils.display_tree(dt_1)"
   ]
  },
  {
   "cell_type": "code",
   "execution_count": 13,
   "id": "38986abc",
   "metadata": {},
   "outputs": [
    {
     "data": {
      "text/plain": [
       "0.8333333333333334"
      ]
     },
     "execution_count": 13,
     "metadata": {},
     "output_type": "execute_result"
    }
   ],
   "source": [
    "dt_1.score(X_validation, Y_validation)"
   ]
  },
  {
   "cell_type": "markdown",
   "id": "139a291f",
   "metadata": {},
   "source": [
    "### Second Decision Tree"
   ]
  },
  {
   "cell_type": "code",
   "execution_count": 14,
   "id": "4303cb18",
   "metadata": {},
   "outputs": [],
   "source": [
    "dt_2 = DecisionTreeClassifier(criterion = 'entropy', max_depth=1, max_features=3\n",
    "                              , min_impurity_decrease=0.0, min_samples_leaf=5\n",
    "                              , min_samples_split=5,random_state=12)"
   ]
  },
  {
   "cell_type": "code",
   "execution_count": 15,
   "id": "6df3ab5a",
   "metadata": {},
   "outputs": [
    {
     "data": {
      "text/plain": [
       "DecisionTreeClassifier(criterion='entropy', max_depth=1, max_features=3,\n",
       "                       min_samples_leaf=5, min_samples_split=5,\n",
       "                       random_state=12)"
      ]
     },
     "execution_count": 15,
     "metadata": {},
     "output_type": "execute_result"
    }
   ],
   "source": [
    "dt_2.fit(X_train, Y_train)"
   ]
  },
  {
   "cell_type": "code",
   "execution_count": 16,
   "id": "ca4afb06",
   "metadata": {},
   "outputs": [
    {
     "data": {
      "image/png": "[encoded data removed]",
      "text/plain": [
       "<IPython.core.display.Image object>"
      ]
     },
     "execution_count": 16,
     "metadata": {},
     "output_type": "execute_result"
    }
   ],
   "source": [
    "# display second decision tree model\n",
    "utils.display_tree(dt_2)"
   ]
  },
  {
   "cell_type": "code",
   "execution_count": 17,
   "id": "16f350fe",
   "metadata": {},
   "outputs": [
    {
     "data": {
      "text/plain": [
       "0.8333333333333334"
      ]
     },
     "execution_count": 17,
     "metadata": {},
     "output_type": "execute_result"
    }
   ],
   "source": [
    "dt_2.score(X_validation, Y_validation)"
   ]
  },
  {
   "cell_type": "markdown",
   "id": "16bd7aab",
   "metadata": {},
   "source": [
    "## Question 3"
   ]
  },
  {
   "cell_type": "markdown",
   "id": "f8e5f97c",
   "metadata": {},
   "source": [
    "**On your best decision tree models, use the classification_report and confusion_matrix functions in sklearn to display metrics, using training and validation (but not testing) data. Also use the display_tree method in utils.py to display each tree.**"
   ]
  },
  {
   "cell_type": "markdown",
   "id": "46015617",
   "metadata": {},
   "source": [
    "## Answer 3"
   ]
  },
  {
   "cell_type": "code",
   "execution_count": 18,
   "id": "b7091576",
   "metadata": {},
   "outputs": [],
   "source": [
    "dt_3 = GridSearchCV(DecisionTreeClassifier(random_state=12),param_grid={\n",
    "      'criterion':['gini','entropy']\n",
    "    , 'max_depth':[1,3,5,7,9] \n",
    "    , 'min_samples_leaf': [3,4,7,5]\n",
    "    , 'min_samples_split': [5,1,2]\n",
    "})"
   ]
  },
  {
   "cell_type": "code",
   "execution_count": 19,
   "id": "ddb5acd8",
   "metadata": {},
   "outputs": [
    {
     "name": "stderr",
     "output_type": "stream",
     "text": [
      "/home/kaur_j/venv/lib/python3.7/site-packages/sklearn/model_selection/_validation.py:372: FitFailedWarning: \n",
      "200 fits failed out of a total of 600.\n",
      "The score on these train-test partitions for these parameters will be set to nan.\n",
      "If these failures are not expected, you can try to debug them by setting error_score='raise'.\n",
      "\n",
      "Below are more details about the failures:\n",
      "--------------------------------------------------------------------------------\n",
      "200 fits failed with the following error:\n",
      "Traceback (most recent call last):\n",
      "  File \"/home/kaur_j/venv/lib/python3.7/site-packages/sklearn/model_selection/_validation.py\", line 680, in _fit_and_score\n",
      "    estimator.fit(X_train, y_train, **fit_params)\n",
      "  File \"/home/kaur_j/venv/lib/python3.7/site-packages/sklearn/tree/_classes.py\", line 942, in fit\n",
      "    X_idx_sorted=X_idx_sorted,\n",
      "  File \"/home/kaur_j/venv/lib/python3.7/site-packages/sklearn/tree/_classes.py\", line 254, in fit\n",
      "    % self.min_samples_split\n",
      "ValueError: min_samples_split must be an integer greater than 1 or a float in (0.0, 1.0]; got the integer 1\n",
      "\n",
      "  warnings.warn(some_fits_failed_message, FitFailedWarning)\n",
      "/home/kaur_j/venv/lib/python3.7/site-packages/sklearn/model_selection/_search.py:972: UserWarning: One or more of the test scores are non-finite: [0.82437943        nan 0.82437943 0.82437943        nan 0.82437943\n",
      " 0.82437943        nan 0.82437943 0.82437943        nan 0.82437943\n",
      " 0.76569149        nan 0.76569149 0.76143617        nan 0.76143617\n",
      " 0.82003546        nan 0.82003546 0.76143617        nan 0.76143617\n",
      " 0.76134752        nan 0.76134752 0.78235816        nan 0.78235816\n",
      " 0.79494681        nan 0.79494681 0.75292553        nan 0.75292553\n",
      " 0.73625887        nan 0.73625887 0.76143617        nan 0.76143617\n",
      " 0.79494681        nan 0.79494681 0.74042553        nan 0.74042553\n",
      " 0.74042553        nan 0.74042553 0.76143617        nan 0.76143617\n",
      " 0.79494681        nan 0.79494681 0.74875887        nan 0.74875887\n",
      " 0.82437943        nan 0.82437943 0.82437943        nan 0.82437943\n",
      " 0.82437943        nan 0.82437943 0.82437943        nan 0.82437943\n",
      " 0.79911348        nan 0.79911348 0.79911348        nan 0.79911348\n",
      " 0.81152482        nan 0.81152482 0.79911348        nan 0.79911348\n",
      " 0.78661348        nan 0.78661348 0.76560284        nan 0.76560284\n",
      " 0.77384752        nan 0.77384752 0.75301418        nan 0.75301418\n",
      " 0.76994681        nan 0.76994681 0.76560284        nan 0.76560284\n",
      " 0.77384752        nan 0.77384752 0.74468085        nan 0.74468085\n",
      " 0.76994681        nan 0.76994681 0.76560284        nan 0.76560284\n",
      " 0.77384752        nan 0.77384752 0.74468085        nan 0.74468085]\n",
      "  category=UserWarning,\n"
     ]
    },
    {
     "data": {
      "text/plain": [
       "GridSearchCV(estimator=DecisionTreeClassifier(random_state=12),\n",
       "             param_grid={'criterion': ['gini', 'entropy'],\n",
       "                         'max_depth': [1, 3, 5, 7, 9],\n",
       "                         'min_samples_leaf': [3, 4, 7, 5],\n",
       "                         'min_samples_split': [5, 1, 2]})"
      ]
     },
     "execution_count": 19,
     "metadata": {},
     "output_type": "execute_result"
    }
   ],
   "source": [
    "dt_3.fit(X_train, Y_train)"
   ]
  },
  {
   "cell_type": "code",
   "execution_count": 20,
   "id": "ac135ee0",
   "metadata": {},
   "outputs": [
    {
     "data": {
      "text/plain": [
       "{'criterion': 'gini',\n",
       " 'max_depth': 1,\n",
       " 'min_samples_leaf': 3,\n",
       " 'min_samples_split': 5}"
      ]
     },
     "execution_count": 20,
     "metadata": {},
     "output_type": "execute_result"
    }
   ],
   "source": [
    "# according to grid search\n",
    "dt_3.best_params_"
   ]
  },
  {
   "cell_type": "markdown",
   "id": "d739c869",
   "metadata": {},
   "source": [
    "With the help of GridSearchCV module, it is clear that the best parameter to classify the best decision tree model is when we use the criteria as 'gini'."
   ]
  },
  {
   "cell_type": "code",
   "execution_count": 21,
   "id": "874d517b",
   "metadata": {
    "scrolled": true
   },
   "outputs": [
    {
     "data": {
      "text/plain": [
       "0.8666666666666667"
      ]
     },
     "execution_count": 21,
     "metadata": {},
     "output_type": "execute_result"
    }
   ],
   "source": [
    "best_hyper = dt_3.best_estimator_\n",
    "\n",
    "best_hyper.score(X_validation, Y_validation)"
   ]
  },
  {
   "cell_type": "code",
   "execution_count": 22,
   "id": "70938b38",
   "metadata": {
    "scrolled": true
   },
   "outputs": [
    {
     "data": {
      "image/png": "[encoded data removed]",
      "text/plain": [
       "<IPython.core.display.Image object>"
      ]
     },
     "execution_count": 22,
     "metadata": {},
     "output_type": "execute_result"
    }
   ],
   "source": [
    "utils.display_tree(best_hyper)"
   ]
  },
  {
   "cell_type": "code",
   "execution_count": 23,
   "id": "b04d4cf0",
   "metadata": {},
   "outputs": [],
   "source": [
    "# prediction on validation and training set\n",
    "Y_val_pred = dt_1.predict(X_validation)\n",
    "Y_train_pred = dt_1.predict(X_train)"
   ]
  },
  {
   "cell_type": "markdown",
   "id": "0c87807b",
   "metadata": {},
   "source": [
    "### Training accuracies "
   ]
  },
  {
   "cell_type": "code",
   "execution_count": 24,
   "id": "9f28ed12",
   "metadata": {},
   "outputs": [
    {
     "name": "stdout",
     "output_type": "stream",
     "text": [
      "              precision    recall  f1-score   support\n",
      "\n",
      "           0       0.85      0.92      0.89       158\n",
      "           1       0.82      0.69      0.75        81\n",
      "\n",
      "    accuracy                           0.85       239\n",
      "   macro avg       0.84      0.81      0.82       239\n",
      "weighted avg       0.84      0.85      0.84       239\n",
      "\n"
     ]
    }
   ],
   "source": [
    "# display the classification report\n",
    "print(classification_report(Y_train, Y_train_pred))"
   ]
  },
  {
   "cell_type": "code",
   "execution_count": 25,
   "id": "12d75ecb",
   "metadata": {},
   "outputs": [
    {
     "data": {
      "image/png": "[encoded data removed]",
      "text/plain": [
       "<Figure size 640x480 with 2 Axes>"
      ]
     },
     "metadata": {},
     "output_type": "display_data"
    }
   ],
   "source": [
    "# display the confusion matrix\n",
    "con_mat = confusion_matrix(Y_train, Y_train_pred, labels = dt_1.classes_)\n",
    "disp = ConfusionMatrixDisplay(confusion_matrix = con_mat, display_labels = dt_1.classes_)\n",
    "disp.plot()\n",
    "plt.show()"
   ]
  },
  {
   "cell_type": "markdown",
   "id": "c30edfe1",
   "metadata": {},
   "source": [
    "### Validation accuracies "
   ]
  },
  {
   "cell_type": "code",
   "execution_count": 26,
   "id": "96e8a9e2",
   "metadata": {},
   "outputs": [
    {
     "name": "stdout",
     "output_type": "stream",
     "text": [
      "              precision    recall  f1-score   support\n",
      "\n",
      "           0       0.95      0.83      0.89        24\n",
      "           1       0.56      0.83      0.67         6\n",
      "\n",
      "    accuracy                           0.83        30\n",
      "   macro avg       0.75      0.83      0.78        30\n",
      "weighted avg       0.87      0.83      0.84        30\n",
      "\n"
     ]
    }
   ],
   "source": [
    "# display the classification report\n",
    "print(classification_report(Y_validation, Y_val_pred))"
   ]
  },
  {
   "cell_type": "code",
   "execution_count": 27,
   "id": "284a1e6b",
   "metadata": {},
   "outputs": [
    {
     "data": {
      "image/png": "[encoded data removed]",
      "text/plain": [
       "<Figure size 640x480 with 2 Axes>"
      ]
     },
     "metadata": {},
     "output_type": "display_data"
    }
   ],
   "source": [
    "# display the confusion matrix\n",
    "con_mat = confusion_matrix(Y_validation, Y_val_pred, labels = dt_1.classes_)\n",
    "disp = ConfusionMatrixDisplay(confusion_matrix = con_mat, display_labels = dt_1.classes_)\n",
    "disp.plot()\n",
    "plt.show()"
   ]
  },
  {
   "cell_type": "markdown",
   "id": "c6a7fbb4",
   "metadata": {},
   "source": [
    "## Question 4"
   ]
  },
  {
   "cell_type": "markdown",
   "id": "f6062500",
   "metadata": {},
   "source": [
    "**Select and justify your final choice of hyperparameters based on the training and validation metrics. Provide a written analysis in markdown.**"
   ]
  },
  {
   "cell_type": "markdown",
   "id": "bbf1c93e",
   "metadata": {},
   "source": [
    "## Answer 4"
   ]
  },
  {
   "cell_type": "markdown",
   "id": "7f235fed",
   "metadata": {},
   "source": [
    "The final choice of hyperparameters based on the training and validation metrics are {'criterion': 'gini',\n",
    " 'max_depth': 1,\n",
    " 'min_samples_leaf': 3,\n",
    " 'min_samples_split': 5}\n",
    " \n",
    "This can be surely confirmed, as the best model was choosen with the help of GridSearchCV module."
   ]
  },
  {
   "cell_type": "markdown",
   "id": "9ecdf7b4",
   "metadata": {},
   "source": [
    "# Support Vector Machine"
   ]
  },
  {
   "cell_type": "markdown",
   "id": "8f3ec529",
   "metadata": {},
   "source": [
    "## Question 2"
   ]
  },
  {
   "cell_type": "markdown",
   "id": "58932497",
   "metadata": {},
   "source": [
    "**Experiment with different values of the C parameter; try the linear, rbf (with different choices of gamma) and polynomial kernels (with different degrees); try both options for decision_function_shape. Keep your best two models.**"
   ]
  },
  {
   "cell_type": "markdown",
   "id": "b2941038",
   "metadata": {},
   "source": [
    "## Answer 2"
   ]
  },
  {
   "cell_type": "markdown",
   "id": "63162c4b",
   "metadata": {},
   "source": [
    "kernel = linear"
   ]
  },
  {
   "cell_type": "code",
   "execution_count": 28,
   "id": "2c30dccd",
   "metadata": {},
   "outputs": [
    {
     "data": {
      "text/plain": [
       "SVC(kernel='linear')"
      ]
     },
     "execution_count": 28,
     "metadata": {},
     "output_type": "execute_result"
    }
   ],
   "source": [
    "svm_1 = SVC(kernel = 'linear')\n",
    "svm_1.fit(X_train, Y_train)"
   ]
  },
  {
   "cell_type": "code",
   "execution_count": 29,
   "id": "1c21cb54",
   "metadata": {},
   "outputs": [
    {
     "data": {
      "text/plain": [
       "0.8666666666666667"
      ]
     },
     "execution_count": 29,
     "metadata": {},
     "output_type": "execute_result"
    }
   ],
   "source": [
    "svm_1.score(X_validation, Y_validation)"
   ]
  },
  {
   "cell_type": "code",
   "execution_count": 30,
   "id": "f5e82e74",
   "metadata": {},
   "outputs": [
    {
     "name": "stdout",
     "output_type": "stream",
     "text": [
      "C = 0.01\n",
      "Accuracy: 0.8333333333333334\n"
     ]
    }
   ],
   "source": [
    "# C = 0.01\n",
    "svm_c_001 = SVC(kernel='linear', C=0.01)\n",
    "svm_c_001.fit(X_train, Y_train)\n",
    "print(\"C = 0.01\")\n",
    "print(\"Accuracy:\", svm_c_001.score(X_validation, Y_validation))"
   ]
  },
  {
   "cell_type": "code",
   "execution_count": null,
   "id": "2d6efc98",
   "metadata": {},
   "outputs": [],
   "source": [
    "# C = 400\n",
    "svm_c_400 = SVC(kernel='linear', C=400)\n",
    "svm_c_400.fit(X_train, Y_train)\n",
    "print(\"C = 400\")\n",
    "print(\"Accuracy:\", svm_c_400.score(X_validation, Y_validation))"
   ]
  },
  {
   "cell_type": "code",
   "execution_count": null,
   "id": "80c23b6e",
   "metadata": {},
   "outputs": [],
   "source": [
    "# gamma = 1\n",
    "svm_gamma_1 = SVC(kernel='rbf', gamma=1)\n",
    "svm_gamma_1.fit(X_train, Y_train)\n",
    "print(\"Gamma = 1\")\n",
    "print(\"Accuracy:\", svm_gamma_1.score(features, labels))"
   ]
  },
  {
   "cell_type": "code",
   "execution_count": null,
   "id": "4d8e2d80",
   "metadata": {},
   "outputs": [],
   "source": [
    "# gamma = 10\n",
    "svm_gamma_10 = SVC(kernel='rbf', gamma=10)\n",
    "svm_gamma_10.fit(X_train, Y_train)\n",
    "print(\"Gamma = 10\")\n",
    "print(\"Accuracy:\", svm_gamma_10.score(features, labels))"
   ]
  },
  {
   "cell_type": "code",
   "execution_count": null,
   "id": "17e427e0",
   "metadata": {},
   "outputs": [],
   "source": [
    "# Degree = 2\n",
    "svm_degree_2 = SVC(kernel='poly', degree=2)\n",
    "svm_degree_2.fit(X_train, Y_train)\n",
    "print(\"Polynomial kernel of degree = 2\")\n",
    "print(\"Accuracy:\", svm_degree_2.score(X_validation, Y_validation))"
   ]
  },
  {
   "cell_type": "code",
   "execution_count": null,
   "id": "cc1e7b7f",
   "metadata": {},
   "outputs": [],
   "source": [
    "# Degree = 4\n",
    "svm_degree_4 = SVC(kernel='poly', degree=4)\n",
    "svm_degree_4.fit(X_train, Y_train)\n",
    "print(\"Polynomial kernel of degree = 4\")\n",
    "print(\"Accuracy:\", svm_degree_4.score(X_validation, Y_validation))"
   ]
  },
  {
   "cell_type": "code",
   "execution_count": null,
   "id": "b265a478",
   "metadata": {},
   "outputs": [],
   "source": [
    "svm_1.SVC(decision_function_shape ='ovo' )"
   ]
  },
  {
   "cell_type": "markdown",
   "id": "50bb8d7b",
   "metadata": {},
   "source": [
    "## Question 3"
   ]
  },
  {
   "cell_type": "markdown",
   "id": "60202b42",
   "metadata": {},
   "source": [
    "**Use the classification_report and confusion_matrix functions in sklearn todisplay metrics for your best models, using training and validation (but not testing) data.**"
   ]
  },
  {
   "cell_type": "markdown",
   "id": "3be063da",
   "metadata": {},
   "source": [
    "## Answer 3"
   ]
  },
  {
   "cell_type": "code",
   "execution_count": null,
   "id": "afd9e99c",
   "metadata": {},
   "outputs": [],
   "source": [
    "svm_2 = GridSearchCV(svm.SVC(gamma = 'auto')\n",
    "    , {\n",
    "        'C': [1,10,0.01]\n",
    "       , 'kernel': ['linear', 'rbf']\n",
    "      }, cv = 5, return_train_score = False\n",
    ")"
   ]
  },
  {
   "cell_type": "code",
   "execution_count": null,
   "id": "5cccc704",
   "metadata": {},
   "outputs": [],
   "source": [
    "svm_2.fit(X_train, Y_train)"
   ]
  },
  {
   "cell_type": "code",
   "execution_count": null,
   "id": "bea71cf9",
   "metadata": {},
   "outputs": [],
   "source": [
    "# prediction on validation and training set\n",
    "Y_val_pred = svm_1.predict(X_validation)\n",
    "Y_train_pred = svm_1.predict(X_train)"
   ]
  },
  {
   "cell_type": "markdown",
   "id": "567ae15c",
   "metadata": {},
   "source": [
    "## Training accuracies"
   ]
  },
  {
   "cell_type": "code",
   "execution_count": null,
   "id": "b3c01352",
   "metadata": {},
   "outputs": [],
   "source": [
    "# display the classification report\n",
    "print(classification_report(Y_train, Y_train_pred))"
   ]
  },
  {
   "cell_type": "code",
   "execution_count": null,
   "id": "df37d76a",
   "metadata": {},
   "outputs": [],
   "source": [
    "# display the confusion matrix\n",
    "con_mat = confusion_matrix(Y_train, Y_train_pred, labels = svm_1.classes_)\n",
    "disp = ConfusionMatrixDisplay(confusion_matrix = con_mat, display_labels = svm_1.classes_)\n",
    "disp.plot()\n",
    "plt.show()"
   ]
  },
  {
   "cell_type": "markdown",
   "id": "9deeb487",
   "metadata": {},
   "source": [
    "## Validation accuracies"
   ]
  },
  {
   "cell_type": "code",
   "execution_count": null,
   "id": "168bb1a3",
   "metadata": {},
   "outputs": [],
   "source": [
    "# display the classification report\n",
    "print(classification_report(Y_validation, Y_val_pred))"
   ]
  },
  {
   "cell_type": "code",
   "execution_count": null,
   "id": "db0f9a9b",
   "metadata": {},
   "outputs": [],
   "source": [
    "# display the confusion matrix\n",
    "con_mat = confusion_matrix(Y_validation, Y_val_pred, labels = svm_1.classes_)\n",
    "disp = ConfusionMatrixDisplay(confusion_matrix = con_mat, display_labels = svm_1.classes_)\n",
    "disp.plot()\n",
    "plt.show()"
   ]
  },
  {
   "cell_type": "markdown",
   "id": "89648f58",
   "metadata": {},
   "source": [
    "## Question 4"
   ]
  },
  {
   "cell_type": "markdown",
   "id": "459c3f03",
   "metadata": {},
   "source": [
    "**Select and justify your final choice of hyperparameters based on the training and validation metrics. Provide a written analysis in markdown.**"
   ]
  },
  {
   "cell_type": "markdown",
   "id": "923816c8",
   "metadata": {},
   "source": [
    "## Answer 4"
   ]
  },
  {
   "cell_type": "code",
   "execution_count": null,
   "id": "489d604a",
   "metadata": {},
   "outputs": [],
   "source": []
  },
  {
   "cell_type": "markdown",
   "id": "516cf929",
   "metadata": {},
   "source": [
    "**Comparison 1**"
   ]
  },
  {
   "cell_type": "markdown",
   "id": "0fd208f3",
   "metadata": {},
   "source": [
    "Out of the decision tree models, the first_decision_tree can be considered as the optimal solution and its accuracy is also high, also the other two models underfit."
   ]
  },
  {
   "cell_type": "markdown",
   "id": "03546b8b",
   "metadata": {},
   "source": [
    "**Comparison 2**"
   ]
  },
  {
   "cell_type": "code",
   "execution_count": null,
   "id": "1bf046e7",
   "metadata": {},
   "outputs": [],
   "source": [
    "Y_test_pred = svm_1.predict(X_test)"
   ]
  },
  {
   "cell_type": "code",
   "execution_count": null,
   "id": "c8cd0513",
   "metadata": {},
   "outputs": [],
   "source": [
    "# display the classification report\n",
    "print(classification_report(Y_test, Y_test_pred))"
   ]
  },
  {
   "cell_type": "code",
   "execution_count": null,
   "id": "28f3793d",
   "metadata": {},
   "outputs": [],
   "source": []
  },
  {
   "cell_type": "code",
   "execution_count": null,
   "id": "ef384cbd",
   "metadata": {},
   "outputs": [],
   "source": [
    "# display the confusion matrix\n",
    "con_mat = confusion_matrix(Y_test, Y_test_pred, labels = dt_1.classes_)\n",
    "disp = ConfusionMatrixDisplay(confusion_matrix = con_mat, display_labels = svm_1.classes_)\n",
    "disp.plot()\n",
    "plt.show()"
   ]
  },
  {
   "cell_type": "markdown",
   "id": "519e556d",
   "metadata": {},
   "source": [
    "**Comparison 3**"
   ]
  },
  {
   "cell_type": "markdown",
   "id": "abdf7045",
   "metadata": {},
   "source": [
    "The best model id dt_1 as it can be considered as optimal solution whereas some underfits."
   ]
  },
  {
   "cell_type": "code",
   "execution_count": null,
   "id": "196596fc",
   "metadata": {},
   "outputs": [],
   "source": []
  }
 ],
 "metadata": {
  "kernelspec": {
   "display_name": "Python 3 (ipykernel)",
   "language": "python",
   "name": "python3"
  },
  "language_info": {
   "codemirror_mode": {
    "name": "ipython",
    "version": 3
   },
   "file_extension": ".py",
   "mimetype": "text/x-python",
   "name": "python",
   "nbconvert_exporter": "python",
   "pygments_lexer": "ipython3",
   "version": "3.7.17"
  }
 },
 "nbformat": 4,
 "nbformat_minor": 5
}
